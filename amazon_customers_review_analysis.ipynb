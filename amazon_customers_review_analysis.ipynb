{
 "cells": [
  {
   "cell_type": "markdown",
   "id": "299b716f-114d-492a-8bb7-4ee1374b750c",
   "metadata": {},
   "source": [
    "# Sentiment Analysis On Amazon Customers Product Reviews\n",
    "\n",
    "**Author:** Ruthy Yao\n",
    "***"
   ]
  },
  {
   "cell_type": "markdown",
   "id": "a8872b57-a7cf-4cbd-a452-aa585bf68412",
   "metadata": {},
   "source": [
    "![Banner](./images/Banner.PNG)"
   ]
  },
  {
   "cell_type": "markdown",
   "id": "b9ea31e9-4606-447e-8e8e-de3c7e6c7531",
   "metadata": {},
   "source": [
    "## Overview"
   ]
  },
  {
   "cell_type": "markdown",
   "id": "20b1e098-7dff-4e32-8bf3-3b8f3e7039a5",
   "metadata": {},
   "source": [
    "This project applied NLP models to convert review text into numerical representations and implemented machine learning models to predict sentiment. This will help in understanding customer feedback, identifying product strengths and weaknesses and improving the overall customer experience. "
   ]
  },
  {
   "cell_type": "markdown",
   "id": "20a3b906-c5f5-4488-87e0-2d97b95bf757",
   "metadata": {},
   "source": [
    "## Business Problem"
   ]
  },
  {
   "cell_type": "markdown",
   "id": "001e42d5-d4e7-4549-aa28-0829be1b716f",
   "metadata": {},
   "source": [
    "PawPure is an online store selling dog and cat food. Every day their customers leave thousands of reviews. These reviews are rich sources of customer feedback but are often unstructured, making manual analysis time-consuming and inefficient. The leadership team needs to quickly interpret the sentiments expressed in these reviews to understand how customers feel about their products, identify key pain points and adjust their business strategies accordingly. However, sorting through vast amounts of text data to understand customer sentiment (positive or negative) poses a significant challenge. \n",
    "\n",
    "The data analytics team was asked to automate the process of sentiment analysis using machine learning (ML) and natural language processing (NLP) techniques. By automating sentiment detection, the leadership team can gain real-time insights from reviews, leading to better decision-making, improved product offerings and enhanced customer satisfaction."
   ]
  },
  {
   "cell_type": "markdown",
   "id": "3703ae6b-690a-43a2-8eb3-282bfd5b3d70",
   "metadata": {},
   "source": [
    "## Data Understanding"
   ]
  },
  {
   "cell_type": "code",
   "execution_count": 15,
   "id": "75d71e0b-fc01-4f67-ad36-55d7b25326c1",
   "metadata": {},
   "outputs": [],
   "source": [
    "import sqlite3\n",
    "import pandas as pd\n",
    "import numpy as np\n",
    "import pickle\n",
    "\n",
    "import matplotlib.pyplot as plt\n",
    "%matplotlib inline\n",
    "import seaborn as sns\n",
    "\n",
    "plt.style.use('ggplot')"
   ]
  },
  {
   "cell_type": "code",
   "execution_count": 16,
   "id": "1c8b617c-8667-4aad-b655-ef8bdcb3919b",
   "metadata": {},
   "outputs": [],
   "source": [
    "# Loading the data\n",
    "# To load the data, I will use the SQLITE dataset where I will fetch only the relevant data that I think will be useful for this analysis.\n",
    "conn = sqlite3.connect('data/database.sqlite')\n",
    "\n",
    "df = pd.read_sql_query(\"\"\"\n",
    "SELECT \n",
    "    Id, \n",
    "    ProductId,\n",
    "    UserId,\n",
    "    ProfileName,\n",
    "    HelpfulnessNumerator,\n",
    "    HelpfulnessDenominator,\n",
    "    Score,\n",
    "    Time,\n",
    "    Summary,\n",
    "    Text\n",
    "FROM Reviews\n",
    "\"\"\", conn)"
   ]
  },
  {
   "cell_type": "code",
   "execution_count": 17,
   "id": "09cded7f-1e72-45be-bb72-060f2db16cef",
   "metadata": {},
   "outputs": [
    {
     "name": "stdout",
     "output_type": "stream",
     "text": [
      "<class 'pandas.core.frame.DataFrame'>\n",
      "RangeIndex: 568454 entries, 0 to 568453\n",
      "Data columns (total 10 columns):\n",
      " #   Column                  Non-Null Count   Dtype \n",
      "---  ------                  --------------   ----- \n",
      " 0   Id                      568454 non-null  int64 \n",
      " 1   ProductId               568454 non-null  object\n",
      " 2   UserId                  568454 non-null  object\n",
      " 3   ProfileName             568428 non-null  object\n",
      " 4   HelpfulnessNumerator    568454 non-null  int64 \n",
      " 5   HelpfulnessDenominator  568454 non-null  int64 \n",
      " 6   Score                   568454 non-null  int64 \n",
      " 7   Time                    568454 non-null  int64 \n",
      " 8   Summary                 568427 non-null  object\n",
      " 9   Text                    568454 non-null  object\n",
      "dtypes: int64(5), object(5)\n",
      "memory usage: 43.4+ MB\n"
     ]
    }
   ],
   "source": [
    "df.info()"
   ]
  },
  {
   "cell_type": "code",
   "execution_count": 18,
   "id": "f84b1c83-4f56-4a97-9920-288dc3ccd83a",
   "metadata": {},
   "outputs": [
    {
     "data": {
      "text/html": [
       "<div>\n",
       "<style scoped>\n",
       "    .dataframe tbody tr th:only-of-type {\n",
       "        vertical-align: middle;\n",
       "    }\n",
       "\n",
       "    .dataframe tbody tr th {\n",
       "        vertical-align: top;\n",
       "    }\n",
       "\n",
       "    .dataframe thead th {\n",
       "        text-align: right;\n",
       "    }\n",
       "</style>\n",
       "<table border=\"1\" class=\"dataframe\">\n",
       "  <thead>\n",
       "    <tr style=\"text-align: right;\">\n",
       "      <th></th>\n",
       "      <th>Id</th>\n",
       "      <th>ProductId</th>\n",
       "      <th>UserId</th>\n",
       "      <th>ProfileName</th>\n",
       "      <th>HelpfulnessNumerator</th>\n",
       "      <th>HelpfulnessDenominator</th>\n",
       "      <th>Score</th>\n",
       "      <th>Time</th>\n",
       "      <th>Summary</th>\n",
       "      <th>Text</th>\n",
       "    </tr>\n",
       "  </thead>\n",
       "  <tbody>\n",
       "    <tr>\n",
       "      <th>0</th>\n",
       "      <td>1</td>\n",
       "      <td>B001E4KFG0</td>\n",
       "      <td>A3SGXH7AUHU8GW</td>\n",
       "      <td>delmartian</td>\n",
       "      <td>1</td>\n",
       "      <td>1</td>\n",
       "      <td>5</td>\n",
       "      <td>1303862400</td>\n",
       "      <td>Good Quality Dog Food</td>\n",
       "      <td>I have bought several of the Vitality canned d...</td>\n",
       "    </tr>\n",
       "    <tr>\n",
       "      <th>1</th>\n",
       "      <td>2</td>\n",
       "      <td>B00813GRG4</td>\n",
       "      <td>A1D87F6ZCVE5NK</td>\n",
       "      <td>dll pa</td>\n",
       "      <td>0</td>\n",
       "      <td>0</td>\n",
       "      <td>1</td>\n",
       "      <td>1346976000</td>\n",
       "      <td>Not as Advertised</td>\n",
       "      <td>Product arrived labeled as Jumbo Salted Peanut...</td>\n",
       "    </tr>\n",
       "    <tr>\n",
       "      <th>2</th>\n",
       "      <td>3</td>\n",
       "      <td>B000LQOCH0</td>\n",
       "      <td>ABXLMWJIXXAIN</td>\n",
       "      <td>Natalia Corres \"Natalia Corres\"</td>\n",
       "      <td>1</td>\n",
       "      <td>1</td>\n",
       "      <td>4</td>\n",
       "      <td>1219017600</td>\n",
       "      <td>\"Delight\" says it all</td>\n",
       "      <td>This is a confection that has been around a fe...</td>\n",
       "    </tr>\n",
       "    <tr>\n",
       "      <th>3</th>\n",
       "      <td>4</td>\n",
       "      <td>B000UA0QIQ</td>\n",
       "      <td>A395BORC6FGVXV</td>\n",
       "      <td>Karl</td>\n",
       "      <td>3</td>\n",
       "      <td>3</td>\n",
       "      <td>2</td>\n",
       "      <td>1307923200</td>\n",
       "      <td>Cough Medicine</td>\n",
       "      <td>If you are looking for the secret ingredient i...</td>\n",
       "    </tr>\n",
       "    <tr>\n",
       "      <th>4</th>\n",
       "      <td>5</td>\n",
       "      <td>B006K2ZZ7K</td>\n",
       "      <td>A1UQRSCLF8GW1T</td>\n",
       "      <td>Michael D. Bigham \"M. Wassir\"</td>\n",
       "      <td>0</td>\n",
       "      <td>0</td>\n",
       "      <td>5</td>\n",
       "      <td>1350777600</td>\n",
       "      <td>Great taffy</td>\n",
       "      <td>Great taffy at a great price.  There was a wid...</td>\n",
       "    </tr>\n",
       "  </tbody>\n",
       "</table>\n",
       "</div>"
      ],
      "text/plain": [
       "   Id   ProductId          UserId                      ProfileName  \\\n",
       "0   1  B001E4KFG0  A3SGXH7AUHU8GW                       delmartian   \n",
       "1   2  B00813GRG4  A1D87F6ZCVE5NK                           dll pa   \n",
       "2   3  B000LQOCH0   ABXLMWJIXXAIN  Natalia Corres \"Natalia Corres\"   \n",
       "3   4  B000UA0QIQ  A395BORC6FGVXV                             Karl   \n",
       "4   5  B006K2ZZ7K  A1UQRSCLF8GW1T    Michael D. Bigham \"M. Wassir\"   \n",
       "\n",
       "   HelpfulnessNumerator  HelpfulnessDenominator  Score        Time  \\\n",
       "0                     1                       1      5  1303862400   \n",
       "1                     0                       0      1  1346976000   \n",
       "2                     1                       1      4  1219017600   \n",
       "3                     3                       3      2  1307923200   \n",
       "4                     0                       0      5  1350777600   \n",
       "\n",
       "                 Summary                                               Text  \n",
       "0  Good Quality Dog Food  I have bought several of the Vitality canned d...  \n",
       "1      Not as Advertised  Product arrived labeled as Jumbo Salted Peanut...  \n",
       "2  \"Delight\" says it all  This is a confection that has been around a fe...  \n",
       "3         Cough Medicine  If you are looking for the secret ingredient i...  \n",
       "4            Great taffy  Great taffy at a great price.  There was a wid...  "
      ]
     },
     "execution_count": 18,
     "metadata": {},
     "output_type": "execute_result"
    }
   ],
   "source": [
    "df.head()"
   ]
  },
  {
   "cell_type": "code",
   "execution_count": 19,
   "id": "dae42822-6dbb-4ad5-8a8e-b73ea3e20ddc",
   "metadata": {},
   "outputs": [
    {
     "data": {
      "text/plain": [
       "array([5, 1, 4, 2, 3], dtype=int64)"
      ]
     },
     "execution_count": 19,
     "metadata": {},
     "output_type": "execute_result"
    }
   ],
   "source": [
    "df['Score'].unique()"
   ]
  },
  {
   "cell_type": "code",
   "execution_count": 20,
   "id": "dcce12d8-2c13-4050-84af-ad473dc7c15d",
   "metadata": {},
   "outputs": [
    {
     "data": {
      "text/plain": [
       "939340800"
      ]
     },
     "execution_count": 20,
     "metadata": {},
     "output_type": "execute_result"
    }
   ],
   "source": [
    "df['Time'].min()"
   ]
  },
  {
   "cell_type": "markdown",
   "id": "495e1dd2-7a0b-46ca-8c9d-eee1250e1074",
   "metadata": {},
   "source": [
    "The unix timestamp for 939340800 is 8/10/1999."
   ]
  },
  {
   "cell_type": "code",
   "execution_count": 22,
   "id": "b5a7e6ee-a9f7-4acc-9c4d-0e13ba326545",
   "metadata": {},
   "outputs": [
    {
     "data": {
      "text/plain": [
       "1351209600"
      ]
     },
     "execution_count": 22,
     "metadata": {},
     "output_type": "execute_result"
    }
   ],
   "source": [
    "df['Time'].max()"
   ]
  },
  {
   "cell_type": "markdown",
   "id": "40663841-5eed-4471-8821-b8916457d4c6",
   "metadata": {},
   "source": [
    "The unix timestamp for 1351209600 is 26/10/2012."
   ]
  },
  {
   "cell_type": "code",
   "execution_count": 24,
   "id": "962e3f34-e55b-4587-b68f-b26288ab5b62",
   "metadata": {},
   "outputs": [
    {
     "data": {
      "text/plain": [
       "array(['B001E4KFG0', 'B00813GRG4', 'B000LQOCH0', ..., 'B003S1WTCU',\n",
       "       'B004I613EE', 'B001LR2CU2'], dtype=object)"
      ]
     },
     "execution_count": 24,
     "metadata": {},
     "output_type": "execute_result"
    }
   ],
   "source": [
    "df['ProductId'].unique()"
   ]
  },
  {
   "cell_type": "code",
   "execution_count": 25,
   "id": "b0235ee1-fa2a-4287-b58e-db0f3c322272",
   "metadata": {},
   "outputs": [
    {
     "data": {
      "text/plain": [
       "ProductId\n",
       "B007JFMH8M    913\n",
       "B0026RQTGE    632\n",
       "B002QWHJOU    632\n",
       "B002QWP89S    632\n",
       "B002QWP8H0    632\n",
       "             ... \n",
       "B004DSPTTM      1\n",
       "B008C9QWU8      1\n",
       "B007O5A6BM      1\n",
       "B003Q4TZ08      1\n",
       "B001LR2CU2      1\n",
       "Name: count, Length: 74258, dtype: int64"
      ]
     },
     "execution_count": 25,
     "metadata": {},
     "output_type": "execute_result"
    }
   ],
   "source": [
    "df['ProductId'].value_counts()"
   ]
  },
  {
   "cell_type": "markdown",
   "id": "231c6cba-ebc6-4cad-9d0d-e91af6a41294",
   "metadata": {},
   "source": [
    "* This dataset contains over 560,000 pieces of reviews dated from Oct 1999 to Oct 2012. \n",
    "* The review is scored from 1 to 5 with 5 being the most positive and 1 being the most negative.\n",
    "* Each review has a summary and a body of the text.\n",
    "* We can identify the Product ID, the user ID who wrote the reivew, the number of users who found the review helpful."
   ]
  },
  {
   "cell_type": "markdown",
   "id": "73ec5a9c-5b0a-4385-946f-3bb33de5d0a2",
   "metadata": {},
   "source": [
    "As we are only interested in the customer sentiment of the last 12 months. Hence I will subset the data with only the reviews posted from Nov 2011 and Oct 2022.\n",
    "\n",
    "The timestamp of 01/11/2011 is 1320186491."
   ]
  },
  {
   "cell_type": "code",
   "execution_count": 28,
   "id": "fbb76a56-9be8-40ad-93c0-985b3f8b1a9c",
   "metadata": {},
   "outputs": [],
   "source": [
    "df = df[df['Time']>= 1320186491]"
   ]
  },
  {
   "cell_type": "code",
   "execution_count": 29,
   "id": "46209a7b-a99e-41b9-a32d-112340746194",
   "metadata": {},
   "outputs": [
    {
     "name": "stdout",
     "output_type": "stream",
     "text": [
      "<class 'pandas.core.frame.DataFrame'>\n",
      "Index: 233325 entries, 1 to 568453\n",
      "Data columns (total 10 columns):\n",
      " #   Column                  Non-Null Count   Dtype \n",
      "---  ------                  --------------   ----- \n",
      " 0   Id                      233325 non-null  int64 \n",
      " 1   ProductId               233325 non-null  object\n",
      " 2   UserId                  233325 non-null  object\n",
      " 3   ProfileName             233306 non-null  object\n",
      " 4   HelpfulnessNumerator    233325 non-null  int64 \n",
      " 5   HelpfulnessDenominator  233325 non-null  int64 \n",
      " 6   Score                   233325 non-null  int64 \n",
      " 7   Time                    233325 non-null  int64 \n",
      " 8   Summary                 233323 non-null  object\n",
      " 9   Text                    233325 non-null  object\n",
      "dtypes: int64(5), object(5)\n",
      "memory usage: 19.6+ MB\n"
     ]
    }
   ],
   "source": [
    "df.info()"
   ]
  },
  {
   "cell_type": "markdown",
   "id": "d545f23c-8417-4706-be4b-ef938f437e21",
   "metadata": {},
   "source": [
    "The extracted dataset contains 233,325 piece of customer reviews."
   ]
  },
  {
   "cell_type": "markdown",
   "id": "c643fe5b-3c6e-4599-b1e0-cf4429d4850f",
   "metadata": {},
   "source": [
    "## Exploratory Data Analysis"
   ]
  },
  {
   "cell_type": "code",
   "execution_count": 32,
   "id": "c963e954-cf97-4082-b877-e34df1367291",
   "metadata": {},
   "outputs": [
    {
     "data": {
      "text/plain": [
       "4.115872709739634"
      ]
     },
     "execution_count": 32,
     "metadata": {},
     "output_type": "execute_result"
    }
   ],
   "source": [
    "# Let's first have a look of the overall rating score.\n",
    "df['Score'].mean()"
   ]
  },
  {
   "cell_type": "markdown",
   "id": "82670abe-e9fb-4d44-98fa-3842e95e5ef0",
   "metadata": {},
   "source": [
    "The average score is 4.12."
   ]
  },
  {
   "cell_type": "code",
   "execution_count": 34,
   "id": "5f0c334b-c811-4c21-8723-914e88a1af0f",
   "metadata": {},
   "outputs": [
    {
     "data": {
      "text/plain": [
       "Score\n",
       "5    143950\n",
       "4     33809\n",
       "1     24081\n",
       "3     18299\n",
       "2     13186\n",
       "Name: count, dtype: int64"
      ]
     },
     "execution_count": 34,
     "metadata": {},
     "output_type": "execute_result"
    }
   ],
   "source": [
    "df['Score'].value_counts()"
   ]
  },
  {
   "cell_type": "code",
   "execution_count": 35,
   "id": "47f245a4-0d2c-43eb-9bfb-e7d1bc4ab81d",
   "metadata": {},
   "outputs": [
    {
     "data": {
      "image/png": "[encoded data removed]",
      "text/plain": [
       "<Figure size 1000x500 with 1 Axes>"
      ]
     },
     "metadata": {},
     "output_type": "display_data"
    }
   ],
   "source": [
    "ax = df['Score'].value_counts().sort_index() \\\n",
    "    .plot(kind = 'bar',\n",
    "          title = 'Count of Reviews by Scores',\n",
    "          figsize =(10,5))\n",
    "ax.set_xlabel('Review Scores')\n",
    "plt.xticks(rotation=90)\n",
    "plt.show()"
   ]
  },
  {
   "cell_type": "markdown",
   "id": "5b1dfb2e-e7bf-4062-8502-88762d8b8e74",
   "metadata": {},
   "source": [
    "Majority of the reviews are 5 stars rating."
   ]
  },
  {
   "cell_type": "code",
   "execution_count": 37,
   "id": "eb89032c-6fe6-4a16-8306-e0439d4d2a33",
   "metadata": {},
   "outputs": [
    {
     "data": {
      "text/html": [
       "<div>\n",
       "<style scoped>\n",
       "    .dataframe tbody tr th:only-of-type {\n",
       "        vertical-align: middle;\n",
       "    }\n",
       "\n",
       "    .dataframe tbody tr th {\n",
       "        vertical-align: top;\n",
       "    }\n",
       "\n",
       "    .dataframe thead th {\n",
       "        text-align: right;\n",
       "    }\n",
       "</style>\n",
       "<table border=\"1\" class=\"dataframe\">\n",
       "  <thead>\n",
       "    <tr style=\"text-align: right;\">\n",
       "      <th></th>\n",
       "      <th>Id</th>\n",
       "      <th>ProductId</th>\n",
       "      <th>UserId</th>\n",
       "      <th>ProfileName</th>\n",
       "      <th>HelpfulnessNumerator</th>\n",
       "      <th>HelpfulnessDenominator</th>\n",
       "      <th>Score</th>\n",
       "      <th>Time</th>\n",
       "      <th>Summary</th>\n",
       "      <th>Text</th>\n",
       "    </tr>\n",
       "  </thead>\n",
       "  <tbody>\n",
       "    <tr>\n",
       "      <th>4</th>\n",
       "      <td>5</td>\n",
       "      <td>B006K2ZZ7K</td>\n",
       "      <td>A1UQRSCLF8GW1T</td>\n",
       "      <td>Michael D. Bigham \"M. Wassir\"</td>\n",
       "      <td>0</td>\n",
       "      <td>0</td>\n",
       "      <td>5</td>\n",
       "      <td>1350777600</td>\n",
       "      <td>Great taffy</td>\n",
       "      <td>Great taffy at a great price.  There was a wid...</td>\n",
       "    </tr>\n",
       "    <tr>\n",
       "      <th>6</th>\n",
       "      <td>7</td>\n",
       "      <td>B006K2ZZ7K</td>\n",
       "      <td>A1SP2KVKFXXRU1</td>\n",
       "      <td>David C. Sullivan</td>\n",
       "      <td>0</td>\n",
       "      <td>0</td>\n",
       "      <td>5</td>\n",
       "      <td>1340150400</td>\n",
       "      <td>Great!  Just as good as the expensive brands!</td>\n",
       "      <td>This saltwater taffy had great flavors and was...</td>\n",
       "    </tr>\n",
       "    <tr>\n",
       "      <th>7</th>\n",
       "      <td>8</td>\n",
       "      <td>B006K2ZZ7K</td>\n",
       "      <td>A3JRGQVEQN31IQ</td>\n",
       "      <td>Pamela G. Williams</td>\n",
       "      <td>0</td>\n",
       "      <td>0</td>\n",
       "      <td>5</td>\n",
       "      <td>1336003200</td>\n",
       "      <td>Wonderful, tasty taffy</td>\n",
       "      <td>This taffy is so good.  It is very soft and ch...</td>\n",
       "    </tr>\n",
       "    <tr>\n",
       "      <th>8</th>\n",
       "      <td>9</td>\n",
       "      <td>B000E7L2R4</td>\n",
       "      <td>A1MZYO9TZK0BBI</td>\n",
       "      <td>R. James</td>\n",
       "      <td>1</td>\n",
       "      <td>1</td>\n",
       "      <td>5</td>\n",
       "      <td>1322006400</td>\n",
       "      <td>Yay Barley</td>\n",
       "      <td>Right now I'm mostly just sprouting this so my...</td>\n",
       "    </tr>\n",
       "    <tr>\n",
       "      <th>9</th>\n",
       "      <td>10</td>\n",
       "      <td>B00171APVA</td>\n",
       "      <td>A21BT40VZCCYT4</td>\n",
       "      <td>Carol A. Reed</td>\n",
       "      <td>0</td>\n",
       "      <td>0</td>\n",
       "      <td>5</td>\n",
       "      <td>1351209600</td>\n",
       "      <td>Healthy Dog Food</td>\n",
       "      <td>This is a very healthy dog food. Good for thei...</td>\n",
       "    </tr>\n",
       "    <tr>\n",
       "      <th>17</th>\n",
       "      <td>18</td>\n",
       "      <td>B001GVISJM</td>\n",
       "      <td>AFKW14U97Z6QO</td>\n",
       "      <td>Becca</td>\n",
       "      <td>0</td>\n",
       "      <td>0</td>\n",
       "      <td>5</td>\n",
       "      <td>1345075200</td>\n",
       "      <td>Love it!</td>\n",
       "      <td>I am very satisfied with my Twizzler purchase....</td>\n",
       "    </tr>\n",
       "    <tr>\n",
       "      <th>18</th>\n",
       "      <td>19</td>\n",
       "      <td>B001GVISJM</td>\n",
       "      <td>A2A9X58G2GTBLP</td>\n",
       "      <td>Wolfee1</td>\n",
       "      <td>0</td>\n",
       "      <td>0</td>\n",
       "      <td>5</td>\n",
       "      <td>1324598400</td>\n",
       "      <td>GREAT SWEET CANDY!</td>\n",
       "      <td>Twizzlers, Strawberry my childhood favorite ca...</td>\n",
       "    </tr>\n",
       "    <tr>\n",
       "      <th>28</th>\n",
       "      <td>29</td>\n",
       "      <td>B00144C10S</td>\n",
       "      <td>A2F4LZVGFLD1OB</td>\n",
       "      <td>DaisyH</td>\n",
       "      <td>0</td>\n",
       "      <td>0</td>\n",
       "      <td>5</td>\n",
       "      <td>1338854400</td>\n",
       "      <td>YUMMY!</td>\n",
       "      <td>I got this for my Mum who is not diabetic but ...</td>\n",
       "    </tr>\n",
       "    <tr>\n",
       "      <th>55</th>\n",
       "      <td>56</td>\n",
       "      <td>B002GWHC0G</td>\n",
       "      <td>A2EFAW1P3DRXWO</td>\n",
       "      <td>TJ Fairfax</td>\n",
       "      <td>0</td>\n",
       "      <td>0</td>\n",
       "      <td>5</td>\n",
       "      <td>1349395200</td>\n",
       "      <td>Our guests love it!</td>\n",
       "      <td>We roast these in a large cast iron pan on the...</td>\n",
       "    </tr>\n",
       "    <tr>\n",
       "      <th>56</th>\n",
       "      <td>57</td>\n",
       "      <td>B004N5KULM</td>\n",
       "      <td>A202WR509428VF</td>\n",
       "      <td>amateur amazon shopper</td>\n",
       "      <td>2</td>\n",
       "      <td>2</td>\n",
       "      <td>5</td>\n",
       "      <td>1322438400</td>\n",
       "      <td>Awesome Deal!</td>\n",
       "      <td>Deal was awesome!  Arrived before Halloween as...</td>\n",
       "    </tr>\n",
       "  </tbody>\n",
       "</table>\n",
       "</div>"
      ],
      "text/plain": [
       "    Id   ProductId          UserId                    ProfileName  \\\n",
       "4    5  B006K2ZZ7K  A1UQRSCLF8GW1T  Michael D. Bigham \"M. Wassir\"   \n",
       "6    7  B006K2ZZ7K  A1SP2KVKFXXRU1              David C. Sullivan   \n",
       "7    8  B006K2ZZ7K  A3JRGQVEQN31IQ             Pamela G. Williams   \n",
       "8    9  B000E7L2R4  A1MZYO9TZK0BBI                       R. James   \n",
       "9   10  B00171APVA  A21BT40VZCCYT4                  Carol A. Reed   \n",
       "17  18  B001GVISJM   AFKW14U97Z6QO                          Becca   \n",
       "18  19  B001GVISJM  A2A9X58G2GTBLP                        Wolfee1   \n",
       "28  29  B00144C10S  A2F4LZVGFLD1OB                         DaisyH   \n",
       "55  56  B002GWHC0G  A2EFAW1P3DRXWO                     TJ Fairfax   \n",
       "56  57  B004N5KULM  A202WR509428VF         amateur amazon shopper   \n",
       "\n",
       "    HelpfulnessNumerator  HelpfulnessDenominator  Score        Time  \\\n",
       "4                      0                       0      5  1350777600   \n",
       "6                      0                       0      5  1340150400   \n",
       "7                      0                       0      5  1336003200   \n",
       "8                      1                       1      5  1322006400   \n",
       "9                      0                       0      5  1351209600   \n",
       "17                     0                       0      5  1345075200   \n",
       "18                     0                       0      5  1324598400   \n",
       "28                     0                       0      5  1338854400   \n",
       "55                     0                       0      5  1349395200   \n",
       "56                     2                       2      5  1322438400   \n",
       "\n",
       "                                          Summary  \\\n",
       "4                                     Great taffy   \n",
       "6   Great!  Just as good as the expensive brands!   \n",
       "7                          Wonderful, tasty taffy   \n",
       "8                                      Yay Barley   \n",
       "9                                Healthy Dog Food   \n",
       "17                                       Love it!   \n",
       "18                             GREAT SWEET CANDY!   \n",
       "28                                         YUMMY!   \n",
       "55                            Our guests love it!   \n",
       "56                                  Awesome Deal!   \n",
       "\n",
       "                                                 Text  \n",
       "4   Great taffy at a great price.  There was a wid...  \n",
       "6   This saltwater taffy had great flavors and was...  \n",
       "7   This taffy is so good.  It is very soft and ch...  \n",
       "8   Right now I'm mostly just sprouting this so my...  \n",
       "9   This is a very healthy dog food. Good for thei...  \n",
       "17  I am very satisfied with my Twizzler purchase....  \n",
       "18  Twizzlers, Strawberry my childhood favorite ca...  \n",
       "28  I got this for my Mum who is not diabetic but ...  \n",
       "55  We roast these in a large cast iron pan on the...  \n",
       "56  Deal was awesome!  Arrived before Halloween as...  "
      ]
     },
     "execution_count": 37,
     "metadata": {},
     "output_type": "execute_result"
    }
   ],
   "source": [
    "# Let's have a look on some of the 5 scores.\n",
    "df[df.Score == 5].head(10)"
   ]
  },
  {
   "cell_type": "code",
   "execution_count": 38,
   "id": "84208434-3e7d-4958-9556-0639ced7cb90",
   "metadata": {},
   "outputs": [
    {
     "data": {
      "text/html": [
       "<div>\n",
       "<style scoped>\n",
       "    .dataframe tbody tr th:only-of-type {\n",
       "        vertical-align: middle;\n",
       "    }\n",
       "\n",
       "    .dataframe tbody tr th {\n",
       "        vertical-align: top;\n",
       "    }\n",
       "\n",
       "    .dataframe thead th {\n",
       "        text-align: right;\n",
       "    }\n",
       "</style>\n",
       "<table border=\"1\" class=\"dataframe\">\n",
       "  <thead>\n",
       "    <tr style=\"text-align: right;\">\n",
       "      <th></th>\n",
       "      <th>Id</th>\n",
       "      <th>ProductId</th>\n",
       "      <th>UserId</th>\n",
       "      <th>ProfileName</th>\n",
       "      <th>HelpfulnessNumerator</th>\n",
       "      <th>HelpfulnessDenominator</th>\n",
       "      <th>Score</th>\n",
       "      <th>Time</th>\n",
       "      <th>Summary</th>\n",
       "      <th>Text</th>\n",
       "    </tr>\n",
       "  </thead>\n",
       "  <tbody>\n",
       "    <tr>\n",
       "      <th>1</th>\n",
       "      <td>2</td>\n",
       "      <td>B00813GRG4</td>\n",
       "      <td>A1D87F6ZCVE5NK</td>\n",
       "      <td>dll pa</td>\n",
       "      <td>0</td>\n",
       "      <td>0</td>\n",
       "      <td>1</td>\n",
       "      <td>1346976000</td>\n",
       "      <td>Not as Advertised</td>\n",
       "      <td>Product arrived labeled as Jumbo Salted Peanut...</td>\n",
       "    </tr>\n",
       "    <tr>\n",
       "      <th>12</th>\n",
       "      <td>13</td>\n",
       "      <td>B0009XLVG0</td>\n",
       "      <td>A327PCT23YH90</td>\n",
       "      <td>LT</td>\n",
       "      <td>1</td>\n",
       "      <td>1</td>\n",
       "      <td>1</td>\n",
       "      <td>1339545600</td>\n",
       "      <td>My Cats Are Not Fans of the New Food</td>\n",
       "      <td>My cats have been happily eating Felidae Plati...</td>\n",
       "    </tr>\n",
       "    <tr>\n",
       "      <th>26</th>\n",
       "      <td>27</td>\n",
       "      <td>B001GVISJM</td>\n",
       "      <td>A3RXAU2N8KV45G</td>\n",
       "      <td>lady21</td>\n",
       "      <td>0</td>\n",
       "      <td>1</td>\n",
       "      <td>1</td>\n",
       "      <td>1332633600</td>\n",
       "      <td>Nasty No flavor</td>\n",
       "      <td>The candy is just red , No flavor . Just  plan...</td>\n",
       "    </tr>\n",
       "    <tr>\n",
       "      <th>73</th>\n",
       "      <td>74</td>\n",
       "      <td>B0059WXJKM</td>\n",
       "      <td>A25VFHVGI4CFTP</td>\n",
       "      <td>Diana Robinson</td>\n",
       "      <td>0</td>\n",
       "      <td>1</td>\n",
       "      <td>1</td>\n",
       "      <td>1335744000</td>\n",
       "      <td>Warning!  WARNING!  -ALCOHOL SUGARS!</td>\n",
       "      <td>Buyer Beware Please! This sweetener is not for...</td>\n",
       "    </tr>\n",
       "    <tr>\n",
       "      <th>99</th>\n",
       "      <td>100</td>\n",
       "      <td>B0019CW0HE</td>\n",
       "      <td>A2P6ACFZ8FTNVV</td>\n",
       "      <td>Melissa Benjamin</td>\n",
       "      <td>0</td>\n",
       "      <td>1</td>\n",
       "      <td>1</td>\n",
       "      <td>1331164800</td>\n",
       "      <td>Bad</td>\n",
       "      <td>I fed this to my Golden Retriever and he hated...</td>\n",
       "    </tr>\n",
       "    <tr>\n",
       "      <th>153</th>\n",
       "      <td>154</td>\n",
       "      <td>B002HQAXUW</td>\n",
       "      <td>A17ESTP5T7T1PH</td>\n",
       "      <td>Bumbeda1</td>\n",
       "      <td>1</td>\n",
       "      <td>1</td>\n",
       "      <td>1</td>\n",
       "      <td>1324944000</td>\n",
       "      <td>Rip off Price</td>\n",
       "      <td>These singles sell for $2.50 - $3.36 at the st...</td>\n",
       "    </tr>\n",
       "    <tr>\n",
       "      <th>167</th>\n",
       "      <td>168</td>\n",
       "      <td>B007B9J6G2</td>\n",
       "      <td>A34YK0ZTWOR858</td>\n",
       "      <td>NikkiBast</td>\n",
       "      <td>1</td>\n",
       "      <td>1</td>\n",
       "      <td>1</td>\n",
       "      <td>1345420800</td>\n",
       "      <td>Very Low quality</td>\n",
       "      <td>I don't know how long these sat on the back of...</td>\n",
       "    </tr>\n",
       "    <tr>\n",
       "      <th>168</th>\n",
       "      <td>169</td>\n",
       "      <td>B0064KO0BU</td>\n",
       "      <td>A34D61RQILOKIJ</td>\n",
       "      <td>TampaBayGal</td>\n",
       "      <td>1</td>\n",
       "      <td>1</td>\n",
       "      <td>1</td>\n",
       "      <td>1350086400</td>\n",
       "      <td>Not Banana Runts</td>\n",
       "      <td>Besides being smaller than runts, they look th...</td>\n",
       "    </tr>\n",
       "    <tr>\n",
       "      <th>229</th>\n",
       "      <td>230</td>\n",
       "      <td>B001L4ELRW</td>\n",
       "      <td>A1AK335P17JXL0</td>\n",
       "      <td>Victoria Brown</td>\n",
       "      <td>0</td>\n",
       "      <td>0</td>\n",
       "      <td>1</td>\n",
       "      <td>1345593600</td>\n",
       "      <td>Not Good</td>\n",
       "      <td>This candy is not as described. The middle is ...</td>\n",
       "    </tr>\n",
       "    <tr>\n",
       "      <th>233</th>\n",
       "      <td>234</td>\n",
       "      <td>B003ZFXJDW</td>\n",
       "      <td>A2KPPGFMPD20M6</td>\n",
       "      <td>Linda Albert</td>\n",
       "      <td>0</td>\n",
       "      <td>0</td>\n",
       "      <td>1</td>\n",
       "      <td>1343692800</td>\n",
       "      <td>Furniture Polish Taste</td>\n",
       "      <td>Terrible! Artificial lemon taste, like Pledge ...</td>\n",
       "    </tr>\n",
       "  </tbody>\n",
       "</table>\n",
       "</div>"
      ],
      "text/plain": [
       "      Id   ProductId          UserId       ProfileName  HelpfulnessNumerator  \\\n",
       "1      2  B00813GRG4  A1D87F6ZCVE5NK            dll pa                     0   \n",
       "12    13  B0009XLVG0   A327PCT23YH90                LT                     1   \n",
       "26    27  B001GVISJM  A3RXAU2N8KV45G            lady21                     0   \n",
       "73    74  B0059WXJKM  A25VFHVGI4CFTP    Diana Robinson                     0   \n",
       "99   100  B0019CW0HE  A2P6ACFZ8FTNVV  Melissa Benjamin                     0   \n",
       "153  154  B002HQAXUW  A17ESTP5T7T1PH          Bumbeda1                     1   \n",
       "167  168  B007B9J6G2  A34YK0ZTWOR858         NikkiBast                     1   \n",
       "168  169  B0064KO0BU  A34D61RQILOKIJ       TampaBayGal                     1   \n",
       "229  230  B001L4ELRW  A1AK335P17JXL0    Victoria Brown                     0   \n",
       "233  234  B003ZFXJDW  A2KPPGFMPD20M6      Linda Albert                     0   \n",
       "\n",
       "     HelpfulnessDenominator  Score        Time  \\\n",
       "1                         0      1  1346976000   \n",
       "12                        1      1  1339545600   \n",
       "26                        1      1  1332633600   \n",
       "73                        1      1  1335744000   \n",
       "99                        1      1  1331164800   \n",
       "153                       1      1  1324944000   \n",
       "167                       1      1  1345420800   \n",
       "168                       1      1  1350086400   \n",
       "229                       0      1  1345593600   \n",
       "233                       0      1  1343692800   \n",
       "\n",
       "                                  Summary  \\\n",
       "1                       Not as Advertised   \n",
       "12   My Cats Are Not Fans of the New Food   \n",
       "26                        Nasty No flavor   \n",
       "73   Warning!  WARNING!  -ALCOHOL SUGARS!   \n",
       "99                                    Bad   \n",
       "153                         Rip off Price   \n",
       "167                      Very Low quality   \n",
       "168                      Not Banana Runts   \n",
       "229                              Not Good   \n",
       "233                Furniture Polish Taste   \n",
       "\n",
       "                                                  Text  \n",
       "1    Product arrived labeled as Jumbo Salted Peanut...  \n",
       "12   My cats have been happily eating Felidae Plati...  \n",
       "26   The candy is just red , No flavor . Just  plan...  \n",
       "73   Buyer Beware Please! This sweetener is not for...  \n",
       "99   I fed this to my Golden Retriever and he hated...  \n",
       "153  These singles sell for $2.50 - $3.36 at the st...  \n",
       "167  I don't know how long these sat on the back of...  \n",
       "168  Besides being smaller than runts, they look th...  \n",
       "229  This candy is not as described. The middle is ...  \n",
       "233  Terrible! Artificial lemon taste, like Pledge ...  "
      ]
     },
     "execution_count": 38,
     "metadata": {},
     "output_type": "execute_result"
    }
   ],
   "source": [
    "# Let's have a look some 1 scores.\n",
    "df[df.Score == 1].head(10)"
   ]
  },
  {
   "cell_type": "code",
   "execution_count": 39,
   "id": "d0caa21c-8bc5-48e8-857c-03564484ff6e",
   "metadata": {},
   "outputs": [
    {
     "data": {
      "text/plain": [
       "ProductId\n",
       "B002XTOHFU    5.0\n",
       "B003LNNCLM    5.0\n",
       "B003LN5Y7C    5.0\n",
       "B003LN4BTE    5.0\n",
       "B003LLV004    5.0\n",
       "B003LKDVJI    5.0\n",
       "B003LJZX86    5.0\n",
       "B003LJZX18    5.0\n",
       "B003LJZU2K    5.0\n",
       "B003LJW6Q8    5.0\n",
       "Name: Score, dtype: float64"
      ]
     },
     "execution_count": 39,
     "metadata": {},
     "output_type": "execute_result"
    }
   ],
   "source": [
    "# Let's have a look the products that are scored 5.\n",
    "df.groupby(['ProductId'])['Score'].mean().sort_values(ascending = False).head(10)"
   ]
  },
  {
   "cell_type": "code",
   "execution_count": 40,
   "id": "afc31477-4280-4370-b6cb-34b5725e889a",
   "metadata": {},
   "outputs": [
    {
     "data": {
      "text/plain": [
       "ProductId\n",
       "B000B6J56I    1.0\n",
       "B002XZNCFA    1.0\n",
       "B0012BSK7Q    1.0\n",
       "B002Y1LCNM    1.0\n",
       "B0012BSB8O    1.0\n",
       "B002Y2QSP8    1.0\n",
       "B000B7R6QI    1.0\n",
       "B002Y2SLQ2    1.0\n",
       "B0060R8QLC    1.0\n",
       "B001EO7KM2    1.0\n",
       "Name: Score, dtype: float64"
      ]
     },
     "execution_count": 40,
     "metadata": {},
     "output_type": "execute_result"
    }
   ],
   "source": [
    "# Let's have a look the products that are scored 1.\n",
    "df.groupby(['ProductId'])['Score'].mean().sort_values(ascending = False).tail(10)"
   ]
  },
  {
   "cell_type": "markdown",
   "id": "0967478f-1f39-4539-bf57-a1deb94c2201",
   "metadata": {},
   "source": [
    "As this dataset doessn't have the product name and product category, this restrict us from extracting further insights on a graular level. However, we could clearly see which products are highly rated by customers and which are badly received by customers."
   ]
  },
  {
   "cell_type": "markdown",
   "id": "96747db1-3989-4bda-aebb-1be3ec2c823f",
   "metadata": {},
   "source": [
    "## Predicative Analysis"
   ]
  },
  {
   "cell_type": "markdown",
   "id": "b829f470-c6e3-43f5-877a-b315a62d2930",
   "metadata": {},
   "source": [
    "I'll train the ML algorithms to understand the product review dataset, extracting knowledege about whether a text indicates positive or negative sentiment. This training model will be deployed to assess customers' sentiment based their product reviews in the future.\n",
    "\n",
    "I'll take the following steps:\n",
    "\n",
    "1. Data preprocessing (tokenization, stemming, stop words removal etc.) to improve the data quality and reduce complexity.\n",
    "2. Word embedding using TD-IDF technique to vectorize the text.\n",
    "3. Load the processed dataset into ML models, evaluate models and choose the best one."
   ]
  },
  {
   "cell_type": "markdown",
   "id": "188e387a-d0eb-4dd0-ab50-3467046b36a7",
   "metadata": {},
   "source": [
    "### Data Preprocessing"
   ]
  },
  {
   "cell_type": "markdown",
   "id": "e1333c96-b57f-4ee5-b8c5-4137c13ee1e7",
   "metadata": {},
   "source": [
    "As we are only interested in whether the sentiment is `positive` or `negative`, I'll classify each review text into either \"postive\" or \"negative\" bucket. \n",
    "To achieve it, I will base on customer's rating `Score` for the classification. Specifically, Score above 3 will be classified as \"positive\" , otherwise the sentiment is \"negative\". "
   ]
  },
  {
   "cell_type": "code",
   "execution_count": 46,
   "id": "9c83b36b-b033-4e7c-8192-19c5e03727a5",
   "metadata": {},
   "outputs": [],
   "source": [
    "df['Sentiment'] = df['Score'].apply(lambda x: 'positive' if x > 3 else 'negative')"
   ]
  },
  {
   "cell_type": "markdown",
   "id": "f6a771ef-ae42-4ef7-b4c4-b92a73329b08",
   "metadata": {},
   "source": [
    "I will only use the `Summary` field to predict the sentiment. Hence the `text` column will be excluded from the dataset.\n",
    "\n",
    "Those columns such as the `product Id`, `User Id`, `time` and `Helpfullness` are irrelevant for this analysis, I'll exclude them from the dataset."
   ]
  },
  {
   "cell_type": "code",
   "execution_count": 48,
   "id": "f753987e-2b84-46d9-a89a-df3fdd190410",
   "metadata": {},
   "outputs": [],
   "source": [
    "df = df[['Score','Summary','Sentiment']]"
   ]
  },
  {
   "cell_type": "code",
   "execution_count": 49,
   "id": "63b6e0dc-563a-4f23-99af-675eeab4c338",
   "metadata": {},
   "outputs": [
    {
     "data": {
      "text/plain": [
       "Score        0\n",
       "Summary      2\n",
       "Sentiment    0\n",
       "dtype: int64"
      ]
     },
     "execution_count": 49,
     "metadata": {},
     "output_type": "execute_result"
    }
   ],
   "source": [
    "# check missing values.\n",
    "df.isna().sum()"
   ]
  },
  {
   "cell_type": "markdown",
   "id": "c1ee34e1-6394-4373-b013-ce523e6c58fa",
   "metadata": {},
   "source": [
    "There are two missing values. Given that the dataset has over 233k pieces of data, I will remove the 2 with missing values."
   ]
  },
  {
   "cell_type": "code",
   "execution_count": 51,
   "id": "f1837da2-0b48-452b-92bc-3c5bfbf9a8ba",
   "metadata": {},
   "outputs": [],
   "source": [
    "df.dropna(inplace = True)"
   ]
  },
  {
   "cell_type": "code",
   "execution_count": 52,
   "id": "223505fc-86dd-4886-ba01-1038fbedc022",
   "metadata": {},
   "outputs": [
    {
     "data": {
      "text/plain": [
       "Sentiment\n",
       "positive    0.761858\n",
       "negative    0.238142\n",
       "Name: proportion, dtype: float64"
      ]
     },
     "execution_count": 52,
     "metadata": {},
     "output_type": "execute_result"
    }
   ],
   "source": [
    "df['Sentiment'].value_counts(normalize = True)"
   ]
  },
  {
   "cell_type": "markdown",
   "id": "40a7b161-7cad-4894-9219-e11a0dad267d",
   "metadata": {},
   "source": [
    "3/4 of the reviews are positive, indicating the dataset is kind of inbalanced."
   ]
  },
  {
   "cell_type": "markdown",
   "id": "49060a96-d9a4-4a77-9385-035f82431d8f",
   "metadata": {},
   "source": [
    "#### Text Preprocessing"
   ]
  },
  {
   "cell_type": "markdown",
   "id": "9d96298f-2ec6-49dd-bb64-913db4ff12bc",
   "metadata": {},
   "source": [
    "I'll perform the following steps to preprocess the text in the `Summary` field in order to prepare the data for the Term-doc incidence matrix.\n",
    "\n",
    "- Stop words removal\n",
    "- Stemming\n",
    "- Punctuations\n",
    "- Lowering"
   ]
  },
  {
   "cell_type": "markdown",
   "id": "f33a25f1-61a7-45b7-bf77-dc1b3cd83950",
   "metadata": {},
   "source": [
    "##### Stopwords\n",
    "* A stop word is a commonly used word (such as “the”, “a”, “an”, “in”) that a search engine has been programmed to ignore, both when indexing entries for searching and when retrieving them as the result of a search query.\n",
    "\n",
    "![alt text](https://www.geeksforgeeks.org/wp-content/uploads/Stop-word-removal-using-NLTK.png)"
   ]
  },
  {
   "cell_type": "code",
   "execution_count": 57,
   "id": "446d054e-60eb-4679-8f7f-c956333e21d4",
   "metadata": {},
   "outputs": [
    {
     "name": "stdout",
     "output_type": "stream",
     "text": [
      "['i', 'me', 'my', 'myself', 'we', 'our', 'ours', 'ourselves', 'you', \"you're\", \"you've\", \"you'll\", \"you'd\", 'your', 'yours', 'yourself', 'yourselves', 'he', 'him', 'his', 'himself', 'she', \"she's\", 'her', 'hers', 'herself', 'it', \"it's\", 'its', 'itself', 'they', 'them', 'their', 'theirs', 'themselves', 'what', 'which', 'who', 'whom', 'this', 'that', \"that'll\", 'these', 'those', 'am', 'is', 'are', 'was', 'were', 'be', 'been', 'being', 'have', 'has', 'had', 'having', 'do', 'does', 'did', 'doing', 'a', 'an', 'the', 'and', 'but', 'if', 'or', 'because', 'as', 'until', 'while', 'of', 'at', 'by', 'for', 'with', 'about', 'against', 'between', 'into', 'through', 'during', 'before', 'after', 'above', 'below', 'to', 'from', 'up', 'down', 'in', 'out', 'on', 'off', 'over', 'under', 'again', 'further', 'then', 'once', 'here', 'there', 'when', 'where', 'why', 'how', 'all', 'any', 'both', 'each', 'few', 'more', 'most', 'other', 'some', 'such', 'no', 'nor', 'not', 'only', 'own', 'same', 'so', 'than', 'too', 'very', 's', 't', 'can', 'will', 'just', 'don', \"don't\", 'should', \"should've\", 'now', 'd', 'll', 'm', 'o', 're', 've', 'y', 'ain', 'aren', \"aren't\", 'couldn', \"couldn't\", 'didn', \"didn't\", 'doesn', \"doesn't\", 'hadn', \"hadn't\", 'hasn', \"hasn't\", 'haven', \"haven't\", 'isn', \"isn't\", 'ma', 'mightn', \"mightn't\", 'mustn', \"mustn't\", 'needn', \"needn't\", 'shan', \"shan't\", 'shouldn', \"shouldn't\", 'wasn', \"wasn't\", 'weren', \"weren't\", 'won', \"won't\", 'wouldn', \"wouldn't\"]\n"
     ]
    }
   ],
   "source": [
    "import nltk\n",
    "# nltk.download('stopwords')\n",
    "from nltk.corpus import stopwords\n",
    "stop = stopwords.words('english')\n",
    "print(stop)"
   ]
  },
  {
   "cell_type": "code",
   "execution_count": 58,
   "id": "b45370a5-9e54-413d-bced-bd61c9954114",
   "metadata": {},
   "outputs": [
    {
     "data": {
      "text/plain": [
       "True"
      ]
     },
     "execution_count": 58,
     "metadata": {},
     "output_type": "execute_result"
    }
   ],
   "source": [
    "'not' in stop"
   ]
  },
  {
   "cell_type": "markdown",
   "id": "5681dc57-1a00-4c55-8bcd-75b7204b86fc",
   "metadata": {},
   "source": [
    "We'll not use stopwords removal as the review text have a lot of words like \"not\". Stopwords like 'not', \"hadn't\" for example, have strong negative signal. If we remove the stopwords, like\"not\", it will completely change the meaning of the reveiw. Hence I decide to keep the stop-words."
   ]
  },
  {
   "cell_type": "markdown",
   "id": "5fe7f1d6-fa8b-4f73-81fc-54ec47d93bf4",
   "metadata": {},
   "source": [
    "##### Stemming\n",
    "\n",
    "Stemming will reduce the words to their root or base form. The goal of stemming is to simplify and standardize words, which helps improve the performance of information retrieval, text classification."
   ]
  },
  {
   "cell_type": "code",
   "execution_count": 61,
   "id": "6154500e-a7cb-4e6e-98ab-d13c43ba0f97",
   "metadata": {},
   "outputs": [
    {
     "name": "stdout",
     "output_type": "stream",
     "text": [
      "tasti\n",
      "join\n",
      "appl\n"
     ]
    }
   ],
   "source": [
    "from nltk.stem import SnowballStemmer # Stemmers remove morphological affixes from words, leaving only the word stem.\n",
    "snow = SnowballStemmer('english') \n",
    "print(snow.stem('tasty'))\n",
    "print(snow.stem('joined'))\n",
    "print(snow.stem('apples'))"
   ]
  },
  {
   "cell_type": "markdown",
   "id": "07e4f17b-bad1-41d4-b3c5-d4366d6ac3f3",
   "metadata": {},
   "source": [
    "##### Punctuation Removal"
   ]
  },
  {
   "cell_type": "code",
   "execution_count": 63,
   "id": "c102f060-32de-4aa6-a404-eaa65d7e9580",
   "metadata": {},
   "outputs": [
    {
     "data": {
      "text/plain": [
       "'Id like to have some coffee today '"
      ]
     },
     "execution_count": 63,
     "metadata": {},
     "output_type": "execute_result"
    }
   ],
   "source": [
    "import re\n",
    "# cleaning punctuations from the sentence\n",
    "sentence = \"I'd like to have some coffee today!\"\n",
    "sentence = re.sub(r'[\\'|\"|#]', r'', sentence) # remove these punctuation\n",
    "sentence = re.sub(r'[?|!|.|,|)|(|\\|/]',r' ',sentence) # replace these punctuation with space\n",
    "sentence"
   ]
  },
  {
   "cell_type": "markdown",
   "id": "4f4e0b3e-35ed-4225-bf84-4913ecf86238",
   "metadata": {},
   "source": [
    "Let's combine all the text preprocessing steps."
   ]
  },
  {
   "cell_type": "code",
   "execution_count": 65,
   "id": "7f969138-72a3-4838-b2a8-2727f76d8d16",
   "metadata": {},
   "outputs": [],
   "source": [
    "def cleanup(sentence):\n",
    "    sentence = str(sentence)\n",
    "    sentence = sentence.lower() # lower case\n",
    "    sentence = re.sub(r'[?|!|.|,|)|(|\\|/]',r' ',sentence) # replace these punctuation with space\n",
    "    tokens = sentence.split()\n",
    "    out = []\n",
    "    for t in tokens:\n",
    "        out.append(snow.stem(t))\n",
    "    out = \" \".join(out)\n",
    "    out = re.sub(r'[\\'|\"|#]', r'', out) # remove these punctuation\n",
    "    return out    "
   ]
  },
  {
   "cell_type": "code",
   "execution_count": 66,
   "id": "90e10fa7-d5fe-461b-84f0-a2310e746188",
   "metadata": {},
   "outputs": [],
   "source": [
    "df[\"Summary_Clean\"] = df[\"Summary\"].apply(cleanup)"
   ]
  },
  {
   "cell_type": "code",
   "execution_count": 67,
   "id": "f0d3c9e9-557e-490d-b759-c7c99c3c214f",
   "metadata": {},
   "outputs": [
    {
     "data": {
      "text/html": [
       "<div>\n",
       "<style scoped>\n",
       "    .dataframe tbody tr th:only-of-type {\n",
       "        vertical-align: middle;\n",
       "    }\n",
       "\n",
       "    .dataframe tbody tr th {\n",
       "        vertical-align: top;\n",
       "    }\n",
       "\n",
       "    .dataframe thead th {\n",
       "        text-align: right;\n",
       "    }\n",
       "</style>\n",
       "<table border=\"1\" class=\"dataframe\">\n",
       "  <thead>\n",
       "    <tr style=\"text-align: right;\">\n",
       "      <th></th>\n",
       "      <th>Score</th>\n",
       "      <th>Summary</th>\n",
       "      <th>Sentiment</th>\n",
       "      <th>Summary_Clean</th>\n",
       "    </tr>\n",
       "  </thead>\n",
       "  <tbody>\n",
       "    <tr>\n",
       "      <th>1</th>\n",
       "      <td>1</td>\n",
       "      <td>Not as Advertised</td>\n",
       "      <td>negative</td>\n",
       "      <td>not as advertis</td>\n",
       "    </tr>\n",
       "    <tr>\n",
       "      <th>4</th>\n",
       "      <td>5</td>\n",
       "      <td>Great taffy</td>\n",
       "      <td>positive</td>\n",
       "      <td>great taffi</td>\n",
       "    </tr>\n",
       "    <tr>\n",
       "      <th>5</th>\n",
       "      <td>4</td>\n",
       "      <td>Nice Taffy</td>\n",
       "      <td>positive</td>\n",
       "      <td>nice taffi</td>\n",
       "    </tr>\n",
       "    <tr>\n",
       "      <th>6</th>\n",
       "      <td>5</td>\n",
       "      <td>Great!  Just as good as the expensive brands!</td>\n",
       "      <td>positive</td>\n",
       "      <td>great just as good as the expens brand</td>\n",
       "    </tr>\n",
       "    <tr>\n",
       "      <th>7</th>\n",
       "      <td>5</td>\n",
       "      <td>Wonderful, tasty taffy</td>\n",
       "      <td>positive</td>\n",
       "      <td>wonder tasti taffi</td>\n",
       "    </tr>\n",
       "  </tbody>\n",
       "</table>\n",
       "</div>"
      ],
      "text/plain": [
       "   Score                                        Summary Sentiment  \\\n",
       "1      1                              Not as Advertised  negative   \n",
       "4      5                                    Great taffy  positive   \n",
       "5      4                                     Nice Taffy  positive   \n",
       "6      5  Great!  Just as good as the expensive brands!  positive   \n",
       "7      5                         Wonderful, tasty taffy  positive   \n",
       "\n",
       "                            Summary_Clean  \n",
       "1                         not as advertis  \n",
       "4                             great taffi  \n",
       "5                              nice taffi  \n",
       "6  great just as good as the expens brand  \n",
       "7                      wonder tasti taffi  "
      ]
     },
     "execution_count": 67,
     "metadata": {},
     "output_type": "execute_result"
    }
   ],
   "source": [
    "df.head()"
   ]
  },
  {
   "cell_type": "markdown",
   "id": "cd19aa3c-20ae-4998-bda2-55ec78b787a2",
   "metadata": {},
   "source": [
    "### Word Cloud"
   ]
  },
  {
   "cell_type": "code",
   "execution_count": 69,
   "id": "eefc4822-f8c8-4158-b0ba-6c1cffb2cb92",
   "metadata": {},
   "outputs": [],
   "source": [
    "import matplotlib as mpl\n",
    "from wordcloud import WordCloud, STOPWORDS"
   ]
  },
  {
   "cell_type": "code",
   "execution_count": 70,
   "id": "d6438da7-5ccc-4c24-9557-90cb4be815c2",
   "metadata": {},
   "outputs": [],
   "source": [
    "mpl.rcParams['figure.figsize']=(8.0,6.0)    #(6.0,4.0)\n",
    "mpl.rcParams['font.size']=12                #10 \n",
    "mpl.rcParams['savefig.dpi']=100             #72 \n",
    "mpl.rcParams['figure.subplot.bottom']=.1 \n",
    "\n",
    "def show_wordcloud(data, title = None):\n",
    "    wordcloud = WordCloud(\n",
    "        background_color='white',\n",
    "        stopwords=None,\n",
    "        max_words=200,\n",
    "        max_font_size=40, \n",
    "        scale=3,\n",
    "        random_state=1 # chosen at random by flipping a coin; it was heads\n",
    "    ).generate(str(data))\n",
    "    \n",
    "    fig = plt.figure(1, figsize=(8, 8))\n",
    "    plt.axis('off')\n",
    "    if title: \n",
    "        fig.suptitle(title, fontsize=20)\n",
    "        fig.subplots_adjust(top=2.3)\n",
    "\n",
    "    plt.imshow(wordcloud)\n",
    "    plt.show()"
   ]
  },
  {
   "cell_type": "code",
   "execution_count": 71,
   "id": "20d6fef6-c08d-417f-b5b0-1d3e9f1499f2",
   "metadata": {},
   "outputs": [
    {
     "data": {
      "image/png": "[encoded data removed]",
      "text/plain": [
       "<Figure size 800x800 with 1 Axes>"
      ]
     },
     "metadata": {},
     "output_type": "display_data"
    }
   ],
   "source": [
    "show_wordcloud(df.Summary_Clean.loc[df.Score == 5], title = \"High scoring\")"
   ]
  },
  {
   "cell_type": "code",
   "execution_count": 72,
   "id": "7843e9b4-ef96-48ab-a643-e54566fa0e0b",
   "metadata": {},
   "outputs": [
    {
     "data": {
      "image/png": "[encoded data removed]",
      "text/plain": [
       "<Figure size 800x800 with 1 Axes>"
      ]
     },
     "metadata": {},
     "output_type": "display_data"
    }
   ],
   "source": [
    "show_wordcloud(df.Summary_Clean.loc[df.Score == 1], title = \"Low scoring\")"
   ]
  },
  {
   "cell_type": "markdown",
   "id": "3bc29576-4a35-44ad-97c8-3f1a64e2d108",
   "metadata": {},
   "source": [
    "According to the word cloud, the high-scored review mentioned \"tasty\", \"heatlhy\", \"brand\", \"barley\" repeatedly, whereas low-scored review called out \"sugar\", \"alcohol\",\"flavor\", \"bad\", \"Nasty\" quite often."
   ]
  },
  {
   "cell_type": "markdown",
   "id": "271cd58d-4f21-471e-9d5a-9ccb4c3f7953",
   "metadata": {},
   "source": [
    "### Model Development"
   ]
  },
  {
   "cell_type": "markdown",
   "id": "43be2923-fc0f-4f0b-ab8c-0ce54bfcf257",
   "metadata": {},
   "source": [
    "#### train test split"
   ]
  },
  {
   "cell_type": "code",
   "execution_count": 76,
   "id": "0044a8b1-e9cc-46e3-9c82-84ab35f2686b",
   "metadata": {},
   "outputs": [
    {
     "name": "stdout",
     "output_type": "stream",
     "text": [
      "186658 items in training data, 46665 in test data\n"
     ]
    }
   ],
   "source": [
    "from sklearn.model_selection import train_test_split\n",
    "train, test = train_test_split(df, test_size=0.2, random_state = 1)\n",
    "print(\"%d items in training data, %d in test data\" % (len(train), len(test)))"
   ]
  },
  {
   "cell_type": "code",
   "execution_count": 77,
   "id": "73db331d-45b7-4f51-b29d-608ba2bc99df",
   "metadata": {},
   "outputs": [
    {
     "data": {
      "text/html": [
       "<div>\n",
       "<style scoped>\n",
       "    .dataframe tbody tr th:only-of-type {\n",
       "        vertical-align: middle;\n",
       "    }\n",
       "\n",
       "    .dataframe tbody tr th {\n",
       "        vertical-align: top;\n",
       "    }\n",
       "\n",
       "    .dataframe thead th {\n",
       "        text-align: right;\n",
       "    }\n",
       "</style>\n",
       "<table border=\"1\" class=\"dataframe\">\n",
       "  <thead>\n",
       "    <tr style=\"text-align: right;\">\n",
       "      <th></th>\n",
       "      <th>Score</th>\n",
       "      <th>Summary</th>\n",
       "      <th>Sentiment</th>\n",
       "      <th>Summary_Clean</th>\n",
       "    </tr>\n",
       "  </thead>\n",
       "  <tbody>\n",
       "    <tr>\n",
       "      <th>0</th>\n",
       "      <td>5</td>\n",
       "      <td>Worked for Me</td>\n",
       "      <td>positive</td>\n",
       "      <td>work for me</td>\n",
       "    </tr>\n",
       "    <tr>\n",
       "      <th>1</th>\n",
       "      <td>5</td>\n",
       "      <td>Great Value</td>\n",
       "      <td>positive</td>\n",
       "      <td>great valu</td>\n",
       "    </tr>\n",
       "    <tr>\n",
       "      <th>2</th>\n",
       "      <td>5</td>\n",
       "      <td>Best Mint Tea by my ruler.</td>\n",
       "      <td>positive</td>\n",
       "      <td>best mint tea by my ruler</td>\n",
       "    </tr>\n",
       "    <tr>\n",
       "      <th>3</th>\n",
       "      <td>1</td>\n",
       "      <td>Not good that I expect</td>\n",
       "      <td>negative</td>\n",
       "      <td>not good that i expect</td>\n",
       "    </tr>\n",
       "    <tr>\n",
       "      <th>4</th>\n",
       "      <td>1</td>\n",
       "      <td>Stale and Poorly packaged</td>\n",
       "      <td>negative</td>\n",
       "      <td>stale and poor packag</td>\n",
       "    </tr>\n",
       "  </tbody>\n",
       "</table>\n",
       "</div>"
      ],
      "text/plain": [
       "   Score                     Summary Sentiment              Summary_Clean\n",
       "0      5               Worked for Me  positive                work for me\n",
       "1      5                 Great Value  positive                 great valu\n",
       "2      5  Best Mint Tea by my ruler.  positive  best mint tea by my ruler\n",
       "3      1      Not good that I expect  negative     not good that i expect\n",
       "4      1   Stale and Poorly packaged  negative      stale and poor packag"
      ]
     },
     "execution_count": 77,
     "metadata": {},
     "output_type": "execute_result"
    }
   ],
   "source": [
    "train = train.reset_index(drop=True)\n",
    "train.head()"
   ]
  },
  {
   "cell_type": "code",
   "execution_count": 78,
   "id": "95fe7987-11f2-4603-8800-e291b0d3d1e4",
   "metadata": {},
   "outputs": [
    {
     "data": {
      "text/html": [
       "<div>\n",
       "<style scoped>\n",
       "    .dataframe tbody tr th:only-of-type {\n",
       "        vertical-align: middle;\n",
       "    }\n",
       "\n",
       "    .dataframe tbody tr th {\n",
       "        vertical-align: top;\n",
       "    }\n",
       "\n",
       "    .dataframe thead th {\n",
       "        text-align: right;\n",
       "    }\n",
       "</style>\n",
       "<table border=\"1\" class=\"dataframe\">\n",
       "  <thead>\n",
       "    <tr style=\"text-align: right;\">\n",
       "      <th></th>\n",
       "      <th>Score</th>\n",
       "      <th>Summary</th>\n",
       "      <th>Sentiment</th>\n",
       "      <th>Summary_Clean</th>\n",
       "    </tr>\n",
       "  </thead>\n",
       "  <tbody>\n",
       "    <tr>\n",
       "      <th>0</th>\n",
       "      <td>5</td>\n",
       "      <td>OH SO GOOD!!</td>\n",
       "      <td>positive</td>\n",
       "      <td>oh so good</td>\n",
       "    </tr>\n",
       "    <tr>\n",
       "      <th>1</th>\n",
       "      <td>5</td>\n",
       "      <td>yum yum</td>\n",
       "      <td>positive</td>\n",
       "      <td>yum yum</td>\n",
       "    </tr>\n",
       "    <tr>\n",
       "      <th>2</th>\n",
       "      <td>5</td>\n",
       "      <td>Good for your health</td>\n",
       "      <td>positive</td>\n",
       "      <td>good for your health</td>\n",
       "    </tr>\n",
       "    <tr>\n",
       "      <th>3</th>\n",
       "      <td>5</td>\n",
       "      <td>great tasting soup, gluten free</td>\n",
       "      <td>positive</td>\n",
       "      <td>great tast soup gluten free</td>\n",
       "    </tr>\n",
       "    <tr>\n",
       "      <th>4</th>\n",
       "      <td>5</td>\n",
       "      <td>great product</td>\n",
       "      <td>positive</td>\n",
       "      <td>great product</td>\n",
       "    </tr>\n",
       "  </tbody>\n",
       "</table>\n",
       "</div>"
      ],
      "text/plain": [
       "   Score                          Summary Sentiment  \\\n",
       "0      5                     OH SO GOOD!!  positive   \n",
       "1      5                          yum yum  positive   \n",
       "2      5             Good for your health  positive   \n",
       "3      5  great tasting soup, gluten free  positive   \n",
       "4      5                    great product  positive   \n",
       "\n",
       "                 Summary_Clean  \n",
       "0                   oh so good  \n",
       "1                      yum yum  \n",
       "2         good for your health  \n",
       "3  great tast soup gluten free  \n",
       "4                great product  "
      ]
     },
     "execution_count": 78,
     "metadata": {},
     "output_type": "execute_result"
    }
   ],
   "source": [
    "test = test.reset_index(drop=True)\n",
    "test.head()"
   ]
  },
  {
   "cell_type": "markdown",
   "id": "10df635d-7245-4370-9b7a-c4920d6df876",
   "metadata": {},
   "source": [
    "#### Feature Engineering"
   ]
  },
  {
   "cell_type": "markdown",
   "id": "d56b4195-511f-4aca-9392-48e203541262",
   "metadata": {},
   "source": [
    "I'll use the following three NLP models to convert the text to vectors.\n",
    "\n",
    "1) Uni-gram BOW\n",
    "2) Bi-gram BOW\n",
    "3) TF-IDF"
   ]
  },
  {
   "cell_type": "markdown",
   "id": "b31bd675-0d27-41eb-950a-55563c4d68f5",
   "metadata": {},
   "source": [
    "#### *1) Uni-gram BoW*\n",
    "\n",
    "Uni-gram convert every word to a feature. "
   ]
  },
  {
   "cell_type": "code",
   "execution_count": 82,
   "id": "f22de2ec-6921-45ea-995b-ecc442681188",
   "metadata": {},
   "outputs": [],
   "source": [
    "from sklearn.feature_extraction.text import CountVectorizer"
   ]
  },
  {
   "cell_type": "code",
   "execution_count": 83,
   "id": "9c141710-b3d2-4aec-9cc2-171484f89634",
   "metadata": {},
   "outputs": [
    {
     "data": {
      "text/plain": [
       "array(['work for me', 'great valu', 'best mint tea by my ruler', ...,\n",
       "       'do not buy - made in china', 'dog said 5 star i say 4',\n",
       "       'love it love it'], dtype=object)"
      ]
     },
     "execution_count": 83,
     "metadata": {},
     "output_type": "execute_result"
    }
   ],
   "source": [
    "train['Summary_Clean'].values"
   ]
  },
  {
   "cell_type": "code",
   "execution_count": 84,
   "id": "9981498b-4ae0-4101-bd50-32f6102b51e9",
   "metadata": {},
   "outputs": [],
   "source": [
    "# words the occur less than 5 times will be ignored to avoid overfitting.\n",
    "uni_gram = CountVectorizer(min_df = 5, binary = True) # only use keyword which shows up more than 5 times. \n",
    "uni_gram_vectors_train = uni_gram.fit_transform(train['Summary_Clean'].values)\n",
    "uni_gram_vectors_test = uni_gram.transform(test['Summary_Clean'].values)"
   ]
  },
  {
   "cell_type": "code",
   "execution_count": 85,
   "id": "df596a7c-db9c-4706-96e7-44162a7a80f8",
   "metadata": {},
   "outputs": [
    {
     "data": {
      "text/plain": [
       "(186658, 5246)"
      ]
     },
     "execution_count": 85,
     "metadata": {},
     "output_type": "execute_result"
    }
   ],
   "source": [
    "uni_gram_vectors_train.shape"
   ]
  },
  {
   "cell_type": "markdown",
   "id": "14331501-a821-445d-8635-f38d67b82821",
   "metadata": {},
   "source": [
    "Uni-gram method identified 5246 unique words, each refresent a feature."
   ]
  },
  {
   "cell_type": "code",
   "execution_count": 87,
   "id": "516414a2-b382-4e09-8a90-78e7f77bbd7a",
   "metadata": {},
   "outputs": [
    {
     "data": {
      "text/plain": [
       "array(['yumo', 'yumyum', 'yunnan', 'yup', 'yuuuuummmmmmyyyyi', 'zealand',\n",
       "       'zen', 'zero', 'zesti', 'zeus', 'zevia', 'zico', 'zing', 'zingi',\n",
       "       'zip', 'ziwipeak', 'zoe', 'zone', 'zotz', 'zuke'], dtype=object)"
      ]
     },
     "execution_count": 87,
     "metadata": {},
     "output_type": "execute_result"
    }
   ],
   "source": [
    "features = uni_gram.get_feature_names_out()\n",
    "features[-20:]"
   ]
  },
  {
   "cell_type": "markdown",
   "id": "03358d57-08d2-41cd-9ca7-d0c2ecc7dfdc",
   "metadata": {},
   "source": [
    "#### *2) Bi-gram BoW*\n",
    "\n",
    "Bi-gram is predicts the probability of a word in a sequence based on the previous word. It considers pairs of consecutive words (bigrams) and estimates the likelihood of encountering a specific word given the preceding word in a text or sentence."
   ]
  },
  {
   "cell_type": "code",
   "execution_count": 89,
   "id": "4f024467-8c78-4764-87f3-5e3b988b270e",
   "metadata": {},
   "outputs": [],
   "source": [
    "bi_gram = CountVectorizer(ngram_range=(1,2), min_df = 5, binary = True) # 1 means the minimum is unigram, 2 means max is bigrams, \n",
    "bi_gram_vectors_train = bi_gram.fit_transform(train['Summary_Clean'].values)\n",
    "bi_gram_vectors_test = bi_gram.transform(test['Summary_Clean'].values)"
   ]
  },
  {
   "cell_type": "code",
   "execution_count": 90,
   "id": "b2d2ce6c-46c6-4b42-8356-69a4b1f1267e",
   "metadata": {},
   "outputs": [
    {
     "data": {
      "text/plain": [
       "(186658, 23392)"
      ]
     },
     "execution_count": 90,
     "metadata": {},
     "output_type": "execute_result"
    }
   ],
   "source": [
    "bi_gram_vectors_train.shape"
   ]
  },
  {
   "cell_type": "markdown",
   "id": "0e5588a4-92f9-4489-80bf-9e77eae5d828",
   "metadata": {},
   "source": [
    "Bi-gram model identified 23392 unique pair of words, each refresent a feature."
   ]
  },
  {
   "cell_type": "code",
   "execution_count": 92,
   "id": "ecba9b37-9b05-44a9-8002-0a4729869443",
   "metadata": {},
   "outputs": [
    {
     "data": {
      "text/plain": [
       "array(['zing', 'zing of', 'zingi', 'zip', 'ziwipeak', 'ziwipeak real',\n",
       "       'zoe', 'zoe favorit', 'zoe oliv', 'zone', 'zotz', 'zuke',\n",
       "       'zuke chicken', 'zuke dog', 'zuke hip', 'zuke is', 'zuke mini',\n",
       "       'zuke peanut', 'zuke product', 'zuke treat'], dtype=object)"
      ]
     },
     "execution_count": 92,
     "metadata": {},
     "output_type": "execute_result"
    }
   ],
   "source": [
    "features = bi_gram.get_feature_names_out()\n",
    "features[-20:]"
   ]
  },
  {
   "cell_type": "markdown",
   "id": "9b5dbb6a-826f-4987-bd64-8b9d3f94cbcd",
   "metadata": {},
   "source": [
    "#### *3) TF-IDF*\n",
    "\n",
    "* TF*IDF is an information retrieval technique that weighs a term's frequency (TF) and its inverse document frequency (IDF). Each word or term has its respective TF and IDF score. The product of the TF and IDF scores of a term is called the TF*IDF weight of that term\n",
    "\n",
    "![alt text](https://1.bp.blogspot.com/-tnzPA6dDtTU/Vw6EWm_PjCI/AAAAAAABDwI/JatHtUJb4fsce9E-Ns5t02_nakFtGrsugCLcB/s1600/%25E8%259E%25A2%25E5%25B9%2595%25E5%25BF%25AB%25E7%2585%25A7%2B2016-04-14%2B%25E4%25B8%258A%25E5%258D%25881.39.07.png)"
   ]
  },
  {
   "cell_type": "markdown",
   "id": "015f0da2-f41c-4471-a51e-98dea664fad9",
   "metadata": {},
   "source": [
    "TF = (Number of times term t appears in a document)/(Number of terms in the document)\n",
    "\n",
    "IDF = log(N/n), where, N is the number of documents and n is the number of documents a term t has appeared in"
   ]
  },
  {
   "cell_type": "code",
   "execution_count": 95,
   "id": "24a67adb-cec5-409b-9b1f-e619d0b2544e",
   "metadata": {},
   "outputs": [],
   "source": [
    "from sklearn.feature_extraction.text import TfidfVectorizer\n",
    "tfidf = TfidfVectorizer(ngram_range=(1,2), min_df = 5)\n",
    "tfidf_vectors_train = tfidf.fit_transform(train['Summary_Clean'].values)\n",
    "tfidf_vectors_test = tfidf.transform(test['Summary_Clean'].values)"
   ]
  },
  {
   "cell_type": "code",
   "execution_count": 96,
   "id": "dad57494-3aa7-4418-8f29-d218bc11a986",
   "metadata": {},
   "outputs": [
    {
     "data": {
      "text/plain": [
       "(186658, 23392)"
      ]
     },
     "execution_count": 96,
     "metadata": {},
     "output_type": "execute_result"
    }
   ],
   "source": [
    "tfidf_vectors_train.shape"
   ]
  },
  {
   "cell_type": "code",
   "execution_count": 97,
   "id": "1bcec00f-3730-43d8-80a3-5ad26fd7614a",
   "metadata": {},
   "outputs": [
    {
     "data": {
      "text/plain": [
       "array(['00', '000', '000 tea', '02', '02 12', '09', '09 02', '0z',\n",
       "       '0z can', '10', '10 10', '10 12', '10 calori', '10 minut',\n",
       "       '10 ounc', '10 oz', '10 pack', '10 star', '10 year', '100'],\n",
       "      dtype=object)"
      ]
     },
     "execution_count": 97,
     "metadata": {},
     "output_type": "execute_result"
    }
   ],
   "source": [
    "features = tfidf.get_feature_names_out()\n",
    "features[0:20]"
   ]
  },
  {
   "cell_type": "markdown",
   "id": "61c96504-e91f-4777-a26f-177a9b6bf1ed",
   "metadata": {},
   "source": [
    "##### Comparison of BoW and TF-IDF\n",
    "\n",
    "In Bag-of-Words (BoW), text is represented by treating each word as a feature in a vector. The model completely ignores word order, syntax, and semantics. Each word in the corpus corresponds to a dimension in the vector, and the value represents how many times the word appears in the document.\n",
    "\n",
    "TF-IDF, on the other hand, enhances the BoW model by adding layer of consideration: the rarity of the word across the entire dataset. In addition to  considering the word frequency (TF), it also introduces the inverse document frequency (IDF) to adjust the weight of each word. Words that appear frequently in a document but are rare across the entire corpus are given more importance.\n",
    "\n",
    "As TF-IDF adjusts word importance by considering both the frequency of a term within a document and its rarity across the corpus. This helps capture the significance of words in the context of the entire dataset. In my opinion, TF-IDF is a better NLP model. Hence I will load the TF-IDF vectorized data to the machine learning model. "
   ]
  },
  {
   "cell_type": "code",
   "execution_count": 99,
   "id": "8afe7615-03cb-4f40-9bff-69c783dfa6d0",
   "metadata": {},
   "outputs": [],
   "source": [
    "prediction = dict() # create a disctionary to store the prediction output.\n",
    "prob = dict()  # create a dictionary to store the probability value of the predicted output."
   ]
  },
  {
   "cell_type": "markdown",
   "id": "f7219d08-8e9d-415c-8b2d-fb8e17918f1e",
   "metadata": {},
   "source": [
    "#### Model Training"
   ]
  },
  {
   "cell_type": "markdown",
   "id": "69176311-285d-4246-afdf-73135a622cb3",
   "metadata": {},
   "source": [
    "I'll train two models:\n",
    "\n",
    "1) Logistic Regression Model.\n",
    "2) Random Forest Model."
   ]
  },
  {
   "cell_type": "markdown",
   "id": "b8613d97-5405-4cc2-bde8-08c50b947faf",
   "metadata": {},
   "source": [
    "##### *1) Logistic Regression Model*"
   ]
  },
  {
   "cell_type": "code",
   "execution_count": 103,
   "id": "c4d91473-5792-49e4-97ee-d19252eaf35c",
   "metadata": {},
   "outputs": [],
   "source": [
    "from sklearn.linear_model import LogisticRegression"
   ]
  },
  {
   "cell_type": "code",
   "execution_count": 104,
   "id": "226bd8ea-d1ea-47cc-bb9a-7543dce833ba",
   "metadata": {},
   "outputs": [],
   "source": [
    "# The first time initiate the model, need to run the below two lines of codes. \n",
    "# Once the model is saved in a pickle file, we just need to run the pickle.load(open) code.\n",
    "\n",
    "# logreg_tfidf = LogisticRegression(C = 1e5, class_weight = 'balanced')\n",
    "# logreg_tfidf_result = logreg_tfidf.fit(tfidf_vectors_train, train['Sentiment'])\n",
    "logreg_tfidf = pickle.load(open('amazon.lr.pickle', 'rb'))"
   ]
  },
  {
   "cell_type": "code",
   "execution_count": 105,
   "id": "62f5b63f-0928-413a-820f-e63baca3beb7",
   "metadata": {},
   "outputs": [],
   "source": [
    "prediction['logistic_tfidf'] = logreg_tfidf.predict(tfidf_vectors_test)"
   ]
  },
  {
   "cell_type": "code",
   "execution_count": 106,
   "id": "1813b804-cea5-4001-adec-00c1601e4605",
   "metadata": {},
   "outputs": [
    {
     "data": {
      "text/plain": [
       "array(['positive', 'positive', 'positive', ..., 'positive', 'positive',\n",
       "       'positive'], dtype=object)"
      ]
     },
     "execution_count": 106,
     "metadata": {},
     "output_type": "execute_result"
    }
   ],
   "source": [
    "prediction['logistic_tfidf']"
   ]
  },
  {
   "cell_type": "code",
   "execution_count": 107,
   "id": "7e0a6217-3cec-41a3-9c82-fb6358a86f3e",
   "metadata": {},
   "outputs": [
    {
     "name": "stdout",
     "output_type": "stream",
     "text": [
      "test data\n",
      "Sentiment\n",
      "positive    35613\n",
      "negative    11052\n",
      "Name: count, dtype: int64\n",
      "--------------\n",
      "predicted data\n",
      "Counter({'positive': 37263, 'negative': 9402})\n"
     ]
    }
   ],
   "source": [
    "# Let's have a look of the predicted value vs the actual values.\n",
    "\n",
    "import collections\n",
    "print('test data')\n",
    "print(test['Sentiment'].value_counts())\n",
    "print('--------------')\n",
    "print('predicted data')\n",
    "print(collections.Counter(prediction['logistic_tfidf']))"
   ]
  },
  {
   "cell_type": "markdown",
   "id": "df48780f-bbb4-4f64-b969-18d4dd190c6e",
   "metadata": {},
   "source": [
    "There are 37,263 reviews are predicted to be positive vs actual positive sentiment of 35,613. 9,402 reviews are predicted to be negative sentiment vs actual 11,052 negative reviews. which is not too bad."
   ]
  },
  {
   "cell_type": "code",
   "execution_count": 109,
   "id": "ebc23692-60c8-4a5d-ab2b-a56d39072689",
   "metadata": {},
   "outputs": [],
   "source": [
    "prob['logistic_tfidf'] = logreg_tfidf.predict_proba(tfidf_vectors_test)"
   ]
  },
  {
   "cell_type": "code",
   "execution_count": 110,
   "id": "86add78f-f7a6-45bf-b22f-33e2195c1bbe",
   "metadata": {},
   "outputs": [
    {
     "data": {
      "text/plain": [
       "array([[0.02076739, 0.97923261],\n",
       "       [0.00551057, 0.99448943],\n",
       "       [0.07765659, 0.92234341],\n",
       "       ...,\n",
       "       [0.40373367, 0.59626633],\n",
       "       [0.02790772, 0.97209228],\n",
       "       [0.14212246, 0.85787754]])"
      ]
     },
     "execution_count": 110,
     "metadata": {},
     "output_type": "execute_result"
    }
   ],
   "source": [
    "prob['logistic_tfidf']"
   ]
  },
  {
   "cell_type": "code",
   "execution_count": 111,
   "id": "c4da81d7-05a6-4026-a68b-431ee6d536af",
   "metadata": {},
   "outputs": [
    {
     "data": {
      "text/plain": [
       "array([0.97923261, 0.99448943, 0.92234341, ..., 0.59626633, 0.97209228,\n",
       "       0.85787754])"
      ]
     },
     "execution_count": 111,
     "metadata": {},
     "output_type": "execute_result"
    }
   ],
   "source": [
    "prob['logistic_tfidf'][:,1]"
   ]
  },
  {
   "cell_type": "markdown",
   "id": "9e1ddff2-688c-47c1-874d-1b8aa3a47583",
   "metadata": {},
   "source": [
    "### Model Evaluation\n",
    "\n",
    "Let's build the ROC curve to evaluate and compare the models. The curve with the highest AUC value will be our \"best\" algorithm."
   ]
  },
  {
   "cell_type": "code",
   "execution_count": 113,
   "id": "b4cc2a45-1c0e-4113-b8df-43c78c5a936b",
   "metadata": {},
   "outputs": [],
   "source": [
    "from sklearn import metrics\n",
    "from sklearn.metrics import roc_curve, auc"
   ]
  },
  {
   "cell_type": "code",
   "execution_count": 114,
   "id": "2657f6c3-8aed-4eb4-8ef4-64a9b2071bb7",
   "metadata": {},
   "outputs": [
    {
     "data": {
      "image/png": "[encoded data removed]",
      "text/plain": [
       "<Figure size 800x600 with 1 Axes>"
      ]
     },
     "metadata": {},
     "output_type": "display_data"
    }
   ],
   "source": [
    "cmp = 0\n",
    "colors = ['b', 'g', 'y', 'm', 'k']\n",
    "for model, predicted in prediction.items():\n",
    "    false_positive_rate, true_positive_rate, thresholds = \\\n",
    "            roc_curve(test['Sentiment'].values, prob['logistic_tfidf'][:,1], pos_label = 'positive')\n",
    "    roc_auc = auc(false_positive_rate, true_positive_rate)\n",
    "    plt.plot(false_positive_rate, true_positive_rate, colors[cmp], label='%s: AUC %0.2f'% (model,roc_auc))\n",
    "    cmp += 1\n",
    "\n",
    "plt.title('Classifiers comparaison with ROC')\n",
    "plt.legend(loc='lower right')\n",
    "plt.plot([0,1],[0,1],'r--')\n",
    "plt.xlim([-0.1,1.2])\n",
    "plt.ylim([-0.1,1.2])\n",
    "plt.ylabel('True Positive Rate')\n",
    "plt.xlabel('False Positive Rate')\n",
    "plt.show()"
   ]
  },
  {
   "cell_type": "code",
   "execution_count": 115,
   "id": "e58b2bfc-a390-4695-8874-c5da70f4c4ba",
   "metadata": {},
   "outputs": [
    {
     "name": "stdout",
     "output_type": "stream",
     "text": [
      "              precision    recall  f1-score   support\n",
      "\n",
      "    negative       0.87      0.74      0.80     11052\n",
      "    positive       0.92      0.96      0.94     35613\n",
      "\n",
      "    accuracy                           0.91     46665\n",
      "   macro avg       0.89      0.85      0.87     46665\n",
      "weighted avg       0.91      0.91      0.91     46665\n",
      "\n"
     ]
    }
   ],
   "source": [
    "print(metrics.classification_report(test['Sentiment'].values, \n",
    "                                    prediction['logistic_tfidf'], \n",
    "                                    target_names = [\"negative\", \"positive\"]))"
   ]
  },
  {
   "cell_type": "markdown",
   "id": "bcbf8b5c-c56e-4b6e-90c1-15d032f4cefa",
   "metadata": {},
   "source": [
    "Let's refresh on what Precision and Recall are (more here https://en.wikipedia.org/wiki/Precision_and_recall)"
   ]
  },
  {
   "cell_type": "markdown",
   "id": "b5420161-028d-4309-9036-b4e5832aa657",
   "metadata": {},
   "source": [
    "![Precision_Recall](https://upload.wikimedia.org/wikipedia/commons/thumb/2/26/Precisionrecall.svg/525px-Precisionrecall.svg.png)"
   ]
  },
  {
   "cell_type": "markdown",
   "id": "d0450439-9a8a-461b-a79b-8247a50a4bed",
   "metadata": {},
   "source": [
    "In our case, the recall and precision are low for the negative class. More improvement can be made."
   ]
  },
  {
   "cell_type": "markdown",
   "id": "3caba220-a324-4aba-aeb3-07c6a5244477",
   "metadata": {},
   "source": [
    "#### Identify the most important words that determine the sentiment.\n",
    "\n",
    "We will use the co-effients as the indicator of the importance of the words. i.e. the higher the positive co-efficent, the more important for a postive class. Likewise, the higher the negative co-efficent, the more important of the word for a negative sentiment."
   ]
  },
  {
   "cell_type": "code",
   "execution_count": 120,
   "id": "a1bfb2ae-d3f7-4ab4-bcd6-97f8246bd6f3",
   "metadata": {},
   "outputs": [
    {
     "data": {
      "text/html": [
       "<div>\n",
       "<style scoped>\n",
       "    .dataframe tbody tr th:only-of-type {\n",
       "        vertical-align: middle;\n",
       "    }\n",
       "\n",
       "    .dataframe tbody tr th {\n",
       "        vertical-align: top;\n",
       "    }\n",
       "\n",
       "    .dataframe thead th {\n",
       "        text-align: right;\n",
       "    }\n",
       "</style>\n",
       "<table border=\"1\" class=\"dataframe\">\n",
       "  <thead>\n",
       "    <tr style=\"text-align: right;\">\n",
       "      <th></th>\n",
       "      <th>feature</th>\n",
       "      <th>coef</th>\n",
       "    </tr>\n",
       "  </thead>\n",
       "  <tbody>\n",
       "    <tr>\n",
       "      <th>14058</th>\n",
       "      <td>not</td>\n",
       "      <td>-10.624847</td>\n",
       "    </tr>\n",
       "    <tr>\n",
       "      <th>22915</th>\n",
       "      <td>worst</td>\n",
       "      <td>-8.854885</td>\n",
       "    </tr>\n",
       "    <tr>\n",
       "      <th>10135</th>\n",
       "      <td>horribl</td>\n",
       "      <td>-7.487259</td>\n",
       "    </tr>\n",
       "    <tr>\n",
       "      <th>19643</th>\n",
       "      <td>terribl</td>\n",
       "      <td>-7.301940</td>\n",
       "    </tr>\n",
       "    <tr>\n",
       "      <th>5772</th>\n",
       "      <td>disappoint</td>\n",
       "      <td>-7.123186</td>\n",
       "    </tr>\n",
       "    <tr>\n",
       "      <th>...</th>\n",
       "      <td>...</td>\n",
       "      <td>...</td>\n",
       "    </tr>\n",
       "    <tr>\n",
       "      <th>12287</th>\n",
       "      <td>love</td>\n",
       "      <td>7.577937</td>\n",
       "    </tr>\n",
       "    <tr>\n",
       "      <th>6710</th>\n",
       "      <td>excel</td>\n",
       "      <td>8.762426</td>\n",
       "    </tr>\n",
       "    <tr>\n",
       "      <th>14075</th>\n",
       "      <td>not bad</td>\n",
       "      <td>9.550776</td>\n",
       "    </tr>\n",
       "    <tr>\n",
       "      <th>9029</th>\n",
       "      <td>great</td>\n",
       "      <td>10.728529</td>\n",
       "    </tr>\n",
       "    <tr>\n",
       "      <th>2219</th>\n",
       "      <td>best</td>\n",
       "      <td>10.741138</td>\n",
       "    </tr>\n",
       "  </tbody>\n",
       "</table>\n",
       "<p>23392 rows × 2 columns</p>\n",
       "</div>"
      ],
      "text/plain": [
       "          feature       coef\n",
       "14058         not -10.624847\n",
       "22915       worst  -8.854885\n",
       "10135     horribl  -7.487259\n",
       "19643     terribl  -7.301940\n",
       "5772   disappoint  -7.123186\n",
       "...           ...        ...\n",
       "12287        love   7.577937\n",
       "6710        excel   8.762426\n",
       "14075     not bad   9.550776\n",
       "9029        great  10.728529\n",
       "2219         best  10.741138\n",
       "\n",
       "[23392 rows x 2 columns]"
      ]
     },
     "execution_count": 120,
     "metadata": {},
     "output_type": "execute_result"
    }
   ],
   "source": [
    "feature = tfidf.get_feature_names_out()\n",
    "feature_coefs = pd.DataFrame(\n",
    "    data = list(zip(feature, logreg_tfidf.coef_[0])),\n",
    "    columns = ['feature', 'coef'])\n",
    "\n",
    "feature_coefs.sort_values(by='coef')"
   ]
  },
  {
   "cell_type": "markdown",
   "id": "13fabfc4-0de0-4902-b55e-a9db4782c12b",
   "metadata": {},
   "source": [
    "The words \"worst\", \"horrible\", \"terrible\", \"disappointing\" are highly correlated with a negative sentiment; On the other hand, words such as \"best\",\"great\", \"not bad\", \"excel\" and \"love\" are the strong indication of a positive sentiments. This is quite alligned with our common sense. "
   ]
  },
  {
   "cell_type": "markdown",
   "id": "85965457-96d4-4ec6-bb76-5d7b8136e51c",
   "metadata": {},
   "source": [
    "##### *2) Random Forest Model*"
   ]
  },
  {
   "cell_type": "code",
   "execution_count": 123,
   "id": "d12c4529-43b2-47ae-9c31-e98366dbf012",
   "metadata": {},
   "outputs": [],
   "source": [
    "from sklearn.ensemble import RandomForestClassifier"
   ]
  },
  {
   "cell_type": "code",
   "execution_count": 124,
   "id": "ec1be732-3a46-4779-9367-2b688cc9e56d",
   "metadata": {},
   "outputs": [],
   "source": [
    "# rf_tfidf = RandomForestClassifier(n_estimators = 100, class_weight = 'balanced')\n",
    "# rf_tfidf_result = rf_tfidf.fit(tfidf_vectors_train, train['Sentiment'])\n",
    "\n",
    "rf_tfidf = pickle.load(open('amazon.rf.pickle', 'rb'))"
   ]
  },
  {
   "cell_type": "code",
   "execution_count": 125,
   "id": "a811e504-c423-4fc3-969f-95563597abef",
   "metadata": {},
   "outputs": [],
   "source": [
    "prediction['rf_tfidf'] = rf_tfidf.predict(tfidf_vectors_test)"
   ]
  },
  {
   "cell_type": "code",
   "execution_count": 126,
   "id": "a77f1f71-d677-4078-9d45-f3f75b4350bb",
   "metadata": {},
   "outputs": [
    {
     "name": "stdout",
     "output_type": "stream",
     "text": [
      "test data\n",
      "Sentiment\n",
      "positive    35613\n",
      "negative    11052\n",
      "Name: count, dtype: int64\n",
      "--------------\n",
      "predicted data\n",
      "Counter({'positive': 36017, 'negative': 10648})\n"
     ]
    }
   ],
   "source": [
    "print('test data')\n",
    "print(test['Sentiment'].value_counts())\n",
    "print('--------------')\n",
    "print('predicted data')\n",
    "print(collections.Counter(prediction['rf_tfidf']))"
   ]
  },
  {
   "cell_type": "code",
   "execution_count": 127,
   "id": "b726575b-f28b-43fb-ab2d-f71f8ff7c0f4",
   "metadata": {},
   "outputs": [
    {
     "data": {
      "text/plain": [
       "array([1.        , 1.        , 1.        , 0.99      , 1.        ,\n",
       "       0.98180995, 1.        , 0.        , 0.1228982 , 0.35      ])"
      ]
     },
     "execution_count": 127,
     "metadata": {},
     "output_type": "execute_result"
    }
   ],
   "source": [
    "prob['rf_tfidf'] = rf_tfidf.predict_proba(tfidf_vectors_test)\n",
    "prob['rf_tfidf'][0:10,1]"
   ]
  },
  {
   "cell_type": "code",
   "execution_count": 128,
   "id": "05bde391-5d3c-44ef-bd15-8e276a000b0c",
   "metadata": {},
   "outputs": [
    {
     "data": {
      "text/plain": [
       "0    positive\n",
       "1    positive\n",
       "2    positive\n",
       "3    positive\n",
       "4    positive\n",
       "5    positive\n",
       "6    positive\n",
       "7    negative\n",
       "8    negative\n",
       "9    negative\n",
       "Name: Sentiment, dtype: object"
      ]
     },
     "execution_count": 128,
     "metadata": {},
     "output_type": "execute_result"
    }
   ],
   "source": [
    "test['Sentiment'][0:10]"
   ]
  },
  {
   "cell_type": "code",
   "execution_count": 222,
   "id": "f0bc8602-a133-4132-a409-a2fa9152d846",
   "metadata": {},
   "outputs": [
    {
     "data": {
      "image/png": "[encoded data removed]",
      "text/plain": [
       "<Figure size 800x600 with 1 Axes>"
      ]
     },
     "metadata": {},
     "output_type": "display_data"
    },
    {
     "data": {
      "text/plain": [
       "<Figure size 800x600 with 0 Axes>"
      ]
     },
     "metadata": {},
     "output_type": "display_data"
    }
   ],
   "source": [
    "cmp = 0\n",
    "colors = ['b', 'g', 'y', 'm', 'k']\n",
    "for model, predicted in prediction.items():\n",
    "    false_positive_rate, true_positive_rate, thresholds = \\\n",
    "            roc_curve(test['Sentiment'].values, prob[model][:,1], pos_label = 'positive')\n",
    "    roc_auc = auc(false_positive_rate, true_positive_rate)\n",
    "    plt.plot(false_positive_rate, true_positive_rate, colors[cmp], label='%s: AUC %0.2f'% (model,roc_auc))\n",
    "    cmp += 1\n",
    "\n",
    "plt.title('Classifiers comparison with ROC')\n",
    "plt.legend(loc='lower right')\n",
    "plt.plot([0,1],[0,1],'r--')\n",
    "plt.xlim([-0.1,1.2])\n",
    "plt.ylim([-0.1,1.2])\n",
    "plt.ylabel('True Positive Rate')\n",
    "plt.xlabel('False Positive Rate')\n",
    "plt.show()"
   ]
  },
  {
   "cell_type": "markdown",
   "id": "4851d822-1ca9-46fc-b365-a93d6bf33a62",
   "metadata": {},
   "source": [
    "The ROC curve shows that Random Forecast Model is slightly better than the logistic model."
   ]
  },
  {
   "cell_type": "code",
   "execution_count": 131,
   "id": "8d6a4658-4e8f-4b0b-a0f3-b8a5a184c12f",
   "metadata": {},
   "outputs": [
    {
     "name": "stdout",
     "output_type": "stream",
     "text": [
      "              precision    recall  f1-score   support\n",
      "\n",
      "    negative       0.87      0.74      0.80     11052\n",
      "    positive       0.92      0.96      0.94     35613\n",
      "\n",
      "    accuracy                           0.91     46665\n",
      "   macro avg       0.89      0.85      0.87     46665\n",
      "weighted avg       0.91      0.91      0.91     46665\n",
      "\n"
     ]
    }
   ],
   "source": [
    "print(metrics.classification_report(test['Sentiment'].values, \n",
    "                                    prediction['logistic_tfidf'], \n",
    "                                    target_names = [\"negative\", \"positive\"]))"
   ]
  },
  {
   "cell_type": "code",
   "execution_count": 132,
   "id": "ce44bfdd-68dc-4d67-ba9d-11ab144a6581",
   "metadata": {},
   "outputs": [
    {
     "name": "stdout",
     "output_type": "stream",
     "text": [
      "              precision    recall  f1-score   support\n",
      "\n",
      "    negative       0.85      0.82      0.83     11052\n",
      "    positive       0.94      0.95      0.95     35613\n",
      "\n",
      "    accuracy                           0.92     46665\n",
      "   macro avg       0.90      0.89      0.89     46665\n",
      "weighted avg       0.92      0.92      0.92     46665\n",
      "\n"
     ]
    }
   ],
   "source": [
    "print(metrics.classification_report(test['Sentiment'].values, \n",
    "                                    prediction['rf_tfidf'], \n",
    "                                    target_names = [\"negative\", \"positive\"]))"
   ]
  },
  {
   "cell_type": "markdown",
   "id": "56629d21-0eff-4ed3-aafe-9f3eb9eef9ba",
   "metadata": {},
   "source": [
    "* Precision tells us of all the customer reviews that were predicted as positive (or negative), how many were actually positive (or negative). \n",
    "* Recall (Sensitivity) tells us of all the positive (or negative) reviews, how many did we correctly predict as positive (or negative) sentiment. \n",
    "* In this particular business scenario, I believe the most critical part is to be able to correctly identify the negative sentiment.\n",
    "* If the customer posted a negative review, we want the model to be able to detect it, rather than misclassify it as positive review, i.e. we want to have a higher **Recall** for the negative class.\n",
    "* We also want to minimize the cases where the model misclassifies a negative review (The model predicts a customer's review as a positive, but it is actually a negative review), i.e. we want a higher **Precision** for the positive class.\n",
    "\n",
    "With that in mind, the Random Forecast Model is superior over Logistical Regression.\n",
    "* Recall for negative class: 0.82 vs 0.74\n",
    "* Precision for positive class: 0.94 vs 0.92"
   ]
  },
  {
   "cell_type": "markdown",
   "id": "1ef29974-353c-4abc-ad2e-5bcb62494f1a",
   "metadata": {},
   "source": [
    "### Feature Importance \n",
    "\n",
    "Let's use the feature importance technique to identify the most important words in a sentiment class. "
   ]
  },
  {
   "cell_type": "code",
   "execution_count": 135,
   "id": "41bb6380-80f2-4ba7-be41-011427e378d4",
   "metadata": {},
   "outputs": [
    {
     "data": {
      "text/html": [
       "<div>\n",
       "<style scoped>\n",
       "    .dataframe tbody tr th:only-of-type {\n",
       "        vertical-align: middle;\n",
       "    }\n",
       "\n",
       "    .dataframe tbody tr th {\n",
       "        vertical-align: top;\n",
       "    }\n",
       "\n",
       "    .dataframe thead th {\n",
       "        text-align: right;\n",
       "    }\n",
       "</style>\n",
       "<table border=\"1\" class=\"dataframe\">\n",
       "  <thead>\n",
       "    <tr style=\"text-align: right;\">\n",
       "      <th></th>\n",
       "      <th>feature</th>\n",
       "      <th>importance</th>\n",
       "    </tr>\n",
       "  </thead>\n",
       "  <tbody>\n",
       "    <tr>\n",
       "      <th>14058</th>\n",
       "      <td>not</td>\n",
       "      <td>0.038320</td>\n",
       "    </tr>\n",
       "    <tr>\n",
       "      <th>9029</th>\n",
       "      <td>great</td>\n",
       "      <td>0.031131</td>\n",
       "    </tr>\n",
       "    <tr>\n",
       "      <th>5456</th>\n",
       "      <td>delici</td>\n",
       "      <td>0.016289</td>\n",
       "    </tr>\n",
       "    <tr>\n",
       "      <th>2219</th>\n",
       "      <td>best</td>\n",
       "      <td>0.015837</td>\n",
       "    </tr>\n",
       "    <tr>\n",
       "      <th>12287</th>\n",
       "      <td>love</td>\n",
       "      <td>0.015058</td>\n",
       "    </tr>\n",
       "    <tr>\n",
       "      <th>5772</th>\n",
       "      <td>disappoint</td>\n",
       "      <td>0.011922</td>\n",
       "    </tr>\n",
       "    <tr>\n",
       "      <th>8646</th>\n",
       "      <td>good</td>\n",
       "      <td>0.011597</td>\n",
       "    </tr>\n",
       "    <tr>\n",
       "      <th>3163</th>\n",
       "      <td>but</td>\n",
       "      <td>0.010529</td>\n",
       "    </tr>\n",
       "    <tr>\n",
       "      <th>6710</th>\n",
       "      <td>excel</td>\n",
       "      <td>0.009782</td>\n",
       "    </tr>\n",
       "    <tr>\n",
       "      <th>23285</th>\n",
       "      <td>yummi</td>\n",
       "      <td>0.009351</td>\n",
       "    </tr>\n",
       "    <tr>\n",
       "      <th>1673</th>\n",
       "      <td>awesom</td>\n",
       "      <td>0.006449</td>\n",
       "    </tr>\n",
       "    <tr>\n",
       "      <th>21099</th>\n",
       "      <td>too</td>\n",
       "      <td>0.006426</td>\n",
       "    </tr>\n",
       "    <tr>\n",
       "      <th>1777</th>\n",
       "      <td>bad</td>\n",
       "      <td>0.006328</td>\n",
       "    </tr>\n",
       "    <tr>\n",
       "      <th>23263</th>\n",
       "      <td>yum</td>\n",
       "      <td>0.005454</td>\n",
       "    </tr>\n",
       "    <tr>\n",
       "      <th>19643</th>\n",
       "      <td>terribl</td>\n",
       "      <td>0.005114</td>\n",
       "    </tr>\n",
       "    <tr>\n",
       "      <th>15617</th>\n",
       "      <td>perfect</td>\n",
       "      <td>0.005053</td>\n",
       "    </tr>\n",
       "    <tr>\n",
       "      <th>14753</th>\n",
       "      <td>ok</td>\n",
       "      <td>0.005033</td>\n",
       "    </tr>\n",
       "    <tr>\n",
       "      <th>7077</th>\n",
       "      <td>favorit</td>\n",
       "      <td>0.004787</td>\n",
       "    </tr>\n",
       "    <tr>\n",
       "      <th>10135</th>\n",
       "      <td>horribl</td>\n",
       "      <td>0.004709</td>\n",
       "    </tr>\n",
       "    <tr>\n",
       "      <th>10941</th>\n",
       "      <td>it</td>\n",
       "      <td>0.004600</td>\n",
       "    </tr>\n",
       "    <tr>\n",
       "      <th>19243</th>\n",
       "      <td>tast</td>\n",
       "      <td>0.004400</td>\n",
       "    </tr>\n",
       "    <tr>\n",
       "      <th>597</th>\n",
       "      <td>amaz</td>\n",
       "      <td>0.004307</td>\n",
       "    </tr>\n",
       "    <tr>\n",
       "      <th>22197</th>\n",
       "      <td>weak</td>\n",
       "      <td>0.004224</td>\n",
       "    </tr>\n",
       "    <tr>\n",
       "      <th>22799</th>\n",
       "      <td>wonder</td>\n",
       "      <td>0.004198</td>\n",
       "    </tr>\n",
       "    <tr>\n",
       "      <th>19425</th>\n",
       "      <td>tasti</td>\n",
       "      <td>0.004195</td>\n",
       "    </tr>\n",
       "    <tr>\n",
       "      <th>1653</th>\n",
       "      <td>aw</td>\n",
       "      <td>0.003952</td>\n",
       "    </tr>\n",
       "    <tr>\n",
       "      <th>18591</th>\n",
       "      <td>stale</td>\n",
       "      <td>0.003852</td>\n",
       "    </tr>\n",
       "    <tr>\n",
       "      <th>23257</th>\n",
       "      <td>yuck</td>\n",
       "      <td>0.003734</td>\n",
       "    </tr>\n",
       "    <tr>\n",
       "      <th>4482</th>\n",
       "      <td>coffe</td>\n",
       "      <td>0.003650</td>\n",
       "    </tr>\n",
       "    <tr>\n",
       "      <th>19878</th>\n",
       "      <td>the best</td>\n",
       "      <td>0.003649</td>\n",
       "    </tr>\n",
       "    <tr>\n",
       "      <th>19850</th>\n",
       "      <td>the</td>\n",
       "      <td>0.003646</td>\n",
       "    </tr>\n",
       "    <tr>\n",
       "      <th>16282</th>\n",
       "      <td>product</td>\n",
       "      <td>0.003601</td>\n",
       "    </tr>\n",
       "    <tr>\n",
       "      <th>12329</th>\n",
       "      <td>love it</td>\n",
       "      <td>0.003555</td>\n",
       "    </tr>\n",
       "    <tr>\n",
       "      <th>13415</th>\n",
       "      <td>my</td>\n",
       "      <td>0.003534</td>\n",
       "    </tr>\n",
       "    <tr>\n",
       "      <th>6057</th>\n",
       "      <td>dont</td>\n",
       "      <td>0.003436</td>\n",
       "    </tr>\n",
       "    <tr>\n",
       "      <th>15946</th>\n",
       "      <td>poor</td>\n",
       "      <td>0.003415</td>\n",
       "    </tr>\n",
       "    <tr>\n",
       "      <th>19513</th>\n",
       "      <td>tea</td>\n",
       "      <td>0.003350</td>\n",
       "    </tr>\n",
       "    <tr>\n",
       "      <th>7611</th>\n",
       "      <td>for</td>\n",
       "      <td>0.003306</td>\n",
       "    </tr>\n",
       "    <tr>\n",
       "      <th>13922</th>\n",
       "      <td>no</td>\n",
       "      <td>0.003300</td>\n",
       "    </tr>\n",
       "    <tr>\n",
       "      <th>14772</th>\n",
       "      <td>okay</td>\n",
       "      <td>0.002949</td>\n",
       "    </tr>\n",
       "    <tr>\n",
       "      <th>14147</th>\n",
       "      <td>not good</td>\n",
       "      <td>0.002888</td>\n",
       "    </tr>\n",
       "    <tr>\n",
       "      <th>5804</th>\n",
       "      <td>disgust</td>\n",
       "      <td>0.002788</td>\n",
       "    </tr>\n",
       "    <tr>\n",
       "      <th>12373</th>\n",
       "      <td>love this</td>\n",
       "      <td>0.002778</td>\n",
       "    </tr>\n",
       "    <tr>\n",
       "      <th>730</th>\n",
       "      <td>and</td>\n",
       "      <td>0.002777</td>\n",
       "    </tr>\n",
       "    <tr>\n",
       "      <th>13821</th>\n",
       "      <td>nice</td>\n",
       "      <td>0.002700</td>\n",
       "    </tr>\n",
       "    <tr>\n",
       "      <th>20579</th>\n",
       "      <td>this</td>\n",
       "      <td>0.002681</td>\n",
       "    </tr>\n",
       "    <tr>\n",
       "      <th>21759</th>\n",
       "      <td>veri</td>\n",
       "      <td>0.002548</td>\n",
       "    </tr>\n",
       "    <tr>\n",
       "      <th>6984</th>\n",
       "      <td>fantast</td>\n",
       "      <td>0.002533</td>\n",
       "    </tr>\n",
       "    <tr>\n",
       "      <th>5669</th>\n",
       "      <td>didnt</td>\n",
       "      <td>0.002516</td>\n",
       "    </tr>\n",
       "    <tr>\n",
       "      <th>11884</th>\n",
       "      <td>like</td>\n",
       "      <td>0.002448</td>\n",
       "    </tr>\n",
       "  </tbody>\n",
       "</table>\n",
       "</div>"
      ],
      "text/plain": [
       "          feature  importance\n",
       "14058         not    0.038320\n",
       "9029        great    0.031131\n",
       "5456       delici    0.016289\n",
       "2219         best    0.015837\n",
       "12287        love    0.015058\n",
       "5772   disappoint    0.011922\n",
       "8646         good    0.011597\n",
       "3163          but    0.010529\n",
       "6710        excel    0.009782\n",
       "23285       yummi    0.009351\n",
       "1673       awesom    0.006449\n",
       "21099         too    0.006426\n",
       "1777          bad    0.006328\n",
       "23263         yum    0.005454\n",
       "19643     terribl    0.005114\n",
       "15617     perfect    0.005053\n",
       "14753          ok    0.005033\n",
       "7077      favorit    0.004787\n",
       "10135     horribl    0.004709\n",
       "10941          it    0.004600\n",
       "19243        tast    0.004400\n",
       "597          amaz    0.004307\n",
       "22197        weak    0.004224\n",
       "22799      wonder    0.004198\n",
       "19425       tasti    0.004195\n",
       "1653           aw    0.003952\n",
       "18591       stale    0.003852\n",
       "23257        yuck    0.003734\n",
       "4482        coffe    0.003650\n",
       "19878    the best    0.003649\n",
       "19850         the    0.003646\n",
       "16282     product    0.003601\n",
       "12329     love it    0.003555\n",
       "13415          my    0.003534\n",
       "6057         dont    0.003436\n",
       "15946        poor    0.003415\n",
       "19513         tea    0.003350\n",
       "7611          for    0.003306\n",
       "13922          no    0.003300\n",
       "14772        okay    0.002949\n",
       "14147    not good    0.002888\n",
       "5804      disgust    0.002788\n",
       "12373   love this    0.002778\n",
       "730           and    0.002777\n",
       "13821        nice    0.002700\n",
       "20579        this    0.002681\n",
       "21759        veri    0.002548\n",
       "6984      fantast    0.002533\n",
       "5669        didnt    0.002516\n",
       "11884        like    0.002448"
      ]
     },
     "execution_count": 135,
     "metadata": {},
     "output_type": "execute_result"
    }
   ],
   "source": [
    "feature = bi_gram.get_feature_names_out()\n",
    "rf_feature_importance = pd.DataFrame(data = list(zip(feature, rf_tfidf.feature_importances_)),\n",
    "    columns = ['feature', 'importance'])\n",
    "rf_feature_importance.sort_values(by='importance', ascending=False).head(50)"
   ]
  },
  {
   "cell_type": "markdown",
   "id": "faac08cd-62d5-47c8-9d7f-665bb148090e",
   "metadata": {},
   "source": [
    "Words such as \"great\", \"delicious\", \"best\", \"love\", \"disappoint\", \"bad\", \"terrible\" are the most important words that determine the sentiment class. \n",
    "\n",
    "Those words such as \"delicious\", \"tasty\", \"yummy\", \"nasty\", \"disgust\", \"yuck\", \"stale\" appearing on top of the list indicates that taste, freshness are the area that accounts major part of the customer satisfaction and customer sentiment."
   ]
  },
  {
   "cell_type": "code",
   "execution_count": 137,
   "id": "a4cbc18c-ece5-4d46-b364-fc56e3f6c34a",
   "metadata": {},
   "outputs": [],
   "source": [
    "# Save the two models into pickle file. Next time if we want to use the model, we just open it through pickle.\n",
    "\n",
    "pickle.dump(logreg_tfidf, open('amazon.lr.pickle', 'wb'))\n",
    "pickle.dump(rf_tfidf, open('amazon.rf.pickle', 'wb'))    \n",
    "\n",
    "# The first time we create the model we will run the below \"load and open\" code to create the pickle file. \n",
    "# Once the pickle file created, moving forward, we will just open it through pickle.\n",
    "# logreg_tfidf = pickle.load(open('amazon.lr.pickle', 'rb'))\n",
    "# rf_tfidf = pickle.load(open('amazon.rf.pickle', 'rb'))"
   ]
  },
  {
   "cell_type": "markdown",
   "id": "3c9935b2-7fe9-4df1-aea1-a1a21522b2ce",
   "metadata": {},
   "source": [
    "## Model Summary & Application"
   ]
  },
  {
   "cell_type": "markdown",
   "id": "c2cd89a7-7e0e-4bc5-8a3e-6d1d006cc9ef",
   "metadata": {},
   "source": [
    "The goal for the project was to build a model that would accurately predict the customers' sentiment. This would allow us to appropriately assess customer's reception of our products so it will inform us on customer satisfaction, product improvement and marketing strategy. A secondary goal was to understand what the drivers are for the sentiment, be it taste, healthiness or packaging, etc. so we can identify our products strengths and weakness, targeting on areas for improvement.\n",
    "\n",
    "Based upon these, the chosen the model is the Random Forest as it gave us higher AUC. It particularly works better for discerning the negative sentiment. Besides, the feature importance does a better job in identifying the key drivers behind the negative sentiment. "
   ]
  },
  {
   "cell_type": "markdown",
   "id": "f9a5483e-53ac-41eb-9126-aaca50140794",
   "metadata": {},
   "source": [
    "The sentiment classification can direct us to action on the following: \n",
    "\n",
    "* **Product Improvement**: Since most of the negative sentiment is around the \"taste\" and \"freshness\", it would be worth focusing on improving the taste of our products and how to better preserve the food to maintain the freshness.\n",
    "* **Customer Satisfaction**: Track sentiment trends over time to see if new product launches are being well received.\n",
    "* **Marketing Strategy**: Highlight positive reviews to promote top-performing products."
   ]
  },
  {
   "cell_type": "markdown",
   "id": "31a843c4-1364-46dd-9bdc-9f6e8053f85f",
   "metadata": {},
   "source": [
    "### Growth & Next Steps"
   ]
  },
  {
   "cell_type": "markdown",
   "id": "98069e43-46ac-4014-ad84-1851ec39e76c",
   "metadata": {},
   "source": [
    "* Try using Logistic regression + L1 regularization\n",
    "* Try other machine learning methods.\n",
    "* Classify the sentiment into multi-class(postive, neutral, negative) and run a multiclass classification model."
   ]
  },
  {
   "cell_type": "code",
   "execution_count": null,
   "id": "ba213ffe-44c0-4a10-b484-98d7a3161e5c",
   "metadata": {},
   "outputs": [],
   "source": []
  }
 ],
 "metadata": {
  "kernelspec": {
   "display_name": "Python 3 (ipykernel)",
   "language": "python",
   "name": "python3"
  },
  "language_info": {
   "codemirror_mode": {
    "name": "ipython",
    "version": 3
   },
   "file_extension": ".py",
   "mimetype": "text/x-python",
   "name": "python",
   "nbconvert_exporter": "python",
   "pygments_lexer": "ipython3",
   "version": "3.11.7"
  }
 },
 "nbformat": 4,
 "nbformat_minor": 5
}
